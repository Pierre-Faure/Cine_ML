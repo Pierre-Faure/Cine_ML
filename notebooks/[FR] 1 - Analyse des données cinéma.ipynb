{
 "cells": [
  {
   "cell_type": "code",
   "execution_count": 1,
   "id": "8397ab5f",
   "metadata": {},
   "outputs": [
    {
     "ename": "ModuleNotFoundError",
     "evalue": "No module named 'prophet'",
     "output_type": "error",
     "traceback": [
      "\u001b[1;31m---------------------------------------------------------------------------\u001b[0m",
      "\u001b[1;31mModuleNotFoundError\u001b[0m                       Traceback (most recent call last)",
      "\u001b[1;32m~\\AppData\\Local\\Temp\\ipykernel_724\\2857339948.py\u001b[0m in \u001b[0;36m<module>\u001b[1;34m\u001b[0m\n\u001b[0;32m      5\u001b[0m \u001b[1;32mfrom\u001b[0m \u001b[0mmatplotlib\u001b[0m \u001b[1;32mimport\u001b[0m \u001b[0mpyplot\u001b[0m \u001b[1;32mas\u001b[0m \u001b[0mplt\u001b[0m\u001b[1;33m\u001b[0m\u001b[1;33m\u001b[0m\u001b[0m\n\u001b[0;32m      6\u001b[0m \u001b[1;32mimport\u001b[0m \u001b[0mnumpy\u001b[0m \u001b[1;32mas\u001b[0m \u001b[0mnp\u001b[0m\u001b[1;33m\u001b[0m\u001b[1;33m\u001b[0m\u001b[0m\n\u001b[1;32m----> 7\u001b[1;33m \u001b[1;32mfrom\u001b[0m \u001b[0mprophet\u001b[0m \u001b[1;32mimport\u001b[0m \u001b[0mProphet\u001b[0m\u001b[1;33m\u001b[0m\u001b[1;33m\u001b[0m\u001b[0m\n\u001b[0m\u001b[0;32m      8\u001b[0m \u001b[1;33m\u001b[0m\u001b[0m\n\u001b[0;32m      9\u001b[0m \u001b[0mlocale\u001b[0m\u001b[1;33m.\u001b[0m\u001b[0msetlocale\u001b[0m\u001b[1;33m(\u001b[0m\u001b[0mlocale\u001b[0m\u001b[1;33m.\u001b[0m\u001b[0mLC_ALL\u001b[0m\u001b[1;33m,\u001b[0m \u001b[1;34m'fr_FR'\u001b[0m\u001b[1;33m)\u001b[0m\u001b[1;33m;\u001b[0m\u001b[1;33m\u001b[0m\u001b[1;33m\u001b[0m\u001b[0m\n",
      "\u001b[1;31mModuleNotFoundError\u001b[0m: No module named 'prophet'"
     ]
    }
   ],
   "source": [
    "# Imports\n",
    "import pandas as pd\n",
    "import os\n",
    "import locale\n",
    "from matplotlib import pyplot as plt\n",
    "import numpy as np\n",
    "from prophet import Prophet\n",
    "\n",
    "locale.setlocale(locale.LC_ALL, 'fr_FR');"
   ]
  },
  {
   "cell_type": "code",
   "execution_count": null,
   "id": "20ffad71",
   "metadata": {},
   "outputs": [],
   "source": [
    "# Chemins\n",
    "path = None\n",
    "path = os.path.dirname(os.getcwd())\n",
    "print(\"Le chemin est \"+path)\n",
    "\n",
    "pdf_dir = os.path.join(path, 'data', 'data_cine_pdf')\n",
    "raw_data_path = os.path.join(path, 'data', 'raw_data', 'df_raw.csv')\n",
    "data_path = os.path.join(path, 'data', 'clean_data.csv')"
   ]
  },
  {
   "cell_type": "code",
   "execution_count": null,
   "id": "03c6e4b6",
   "metadata": {},
   "outputs": [],
   "source": [
    "# Recuperation des données\n",
    "df = pd.read_csv(data_path, parse_dates=[['date', 'time']], dayfirst=True)"
   ]
  },
  {
   "cell_type": "code",
   "execution_count": null,
   "id": "9329a934",
   "metadata": {},
   "outputs": [],
   "source": [
    "df.info();"
   ]
  },
  {
   "cell_type": "code",
   "execution_count": null,
   "id": "d715fc1e",
   "metadata": {
    "scrolled": false
   },
   "outputs": [],
   "source": [
    "df"
   ]
  },
  {
   "cell_type": "markdown",
   "id": "7b905860",
   "metadata": {},
   "source": [
    "### Description des données\n",
    "\n",
    "- **Film** : Titre du film (chaîne de caractères)\n",
    "- **Version** : Langue des dialogues ('_FR_' pour film français en langue originale, '_VF_' pour film étranger en langue française et '_VO_' pour film étranger en langue originale)\n",
    "- **Relief** : Option supplémentaire ('_2D_' si l'option est désactivée, '_3D_' si l'option est activée)\n",
    "- **Payants** : Nombre d'entrées vendues (valeur numérique)\n",
    "- **Gratuits** : Nombre d'entrées gratuites (valeur numérique)\n",
    "- **Places libres** : Nombre de places restantes dans la salle (valeur numérique)\n",
    "- **Taux remplissage** : Niveau de remplissage de la salle (pourcentage, calculé par : (nombre d'entrées payantes + nombre d'entrées gratuites) / nombre de places)"
   ]
  },
  {
   "cell_type": "markdown",
   "id": "221fc8cb",
   "metadata": {},
   "source": [
    "### Nettoyage et preparation"
   ]
  },
  {
   "cell_type": "code",
   "execution_count": null,
   "id": "c4262c61",
   "metadata": {},
   "outputs": [],
   "source": [
    "# Creation de la nouvelle colonne 'Nombre entrees'\n",
    "df['Nombre entrees'] = df[[\"Payants\", \"Gratuits\"]].sum(axis=1)"
   ]
  },
  {
   "cell_type": "code",
   "execution_count": null,
   "id": "9f770f28",
   "metadata": {},
   "outputs": [],
   "source": [
    "# Nettoyage des nombres d'entrées à 0\n",
    "# df = df[~(df['Nombre entrees'] == 0)].reset_index()"
   ]
  },
  {
   "cell_type": "code",
   "execution_count": null,
   "id": "a24a4b28",
   "metadata": {},
   "outputs": [],
   "source": [
    "# Conversion en valeur numérique de la colonne 'Taux remplissage'\n",
    "try:\n",
    "    df['Taux remplissage'] = df['Taux remplissage'].str.rstrip('%').str.replace(',','.').astype('float')\n",
    "except:\n",
    "    print('Nothing to do')"
   ]
  },
  {
   "cell_type": "code",
   "execution_count": null,
   "id": "016b2b01",
   "metadata": {},
   "outputs": [],
   "source": [
    "df"
   ]
  },
  {
   "cell_type": "markdown",
   "id": "ee5cf13c",
   "metadata": {},
   "source": [
    "### Statistiques descriptives"
   ]
  },
  {
   "cell_type": "code",
   "execution_count": null,
   "id": "0e4b6c40",
   "metadata": {},
   "outputs": [],
   "source": [
    "# Dates\n",
    "print(\"Le jeu de données commence le \"+df['date_time'].min().strftime('%d %B %Y') + \" et finit le \"+df['date_time'].max().strftime('%d %B %Y'))\n",
    "\n",
    "# Nombre de films\n",
    "print(str(len(df['Film'].unique()))+\" films ont été proposés\")"
   ]
  },
  {
   "cell_type": "code",
   "execution_count": null,
   "id": "3fcc41b1",
   "metadata": {},
   "outputs": [],
   "source": [
    "# Version\n",
    "plt.subplot(1, 2, 1)\n",
    "df['Version'].value_counts().plot(kind='bar',\n",
    "                                  xlabel='Version');\n",
    "plt.title('Nombre de séances en fonction de la version du film', fontsize=16);\n",
    "\n",
    "plt.subplot(1, 2, 2)\n",
    "df.groupby('Version').sum()['Nombre entrees'].plot(kind='bar',\n",
    "                                                   figsize=(20, 6));\n",
    "plt.title('Nombre d\\'entrées en fonction de la version du film', fontsize=16);"
   ]
  },
  {
   "cell_type": "code",
   "execution_count": null,
   "id": "22af8090",
   "metadata": {},
   "outputs": [],
   "source": [
    "# Relief\n",
    "plt.subplot(1, 2, 1)\n",
    "df['Relief'].value_counts().plot(kind='bar',\n",
    "                                  xlabel='Relief');\n",
    "plt.title('Nombre de séances en fonction du relief', fontsize=16);\n",
    "\n",
    "plt.subplot(1, 2, 2)\n",
    "df.groupby('Relief').sum()['Nombre entrees'].plot(kind='bar',\n",
    "                                                   figsize=(20, 6));\n",
    "plt.title('Nombre d\\'entrées en fonction du relief', fontsize=16);"
   ]
  },
  {
   "cell_type": "code",
   "execution_count": null,
   "id": "d0f5fe65",
   "metadata": {},
   "outputs": [],
   "source": [
    "# Taux remplissage\n",
    "print(\"Le taux de remplissage moyen est de \"+str(round(df['Taux remplissage'].mean(),2))+\" %\")"
   ]
  },
  {
   "cell_type": "code",
   "execution_count": null,
   "id": "f4672a80",
   "metadata": {},
   "outputs": [],
   "source": [
    "# Nombre d'entrées par année\n",
    "df.groupby(df['date_time'].dt.year.astype(str)).sum()['Nombre entrees'].plot(kind='bar',\n",
    "                                                                             figsize=(20, 6),\n",
    "                                                                             xlabel='Année');\n",
    "plt.title('Nombre d\\'entrées par année', fontsize=16);"
   ]
  },
  {
   "cell_type": "code",
   "execution_count": null,
   "id": "350e2257",
   "metadata": {},
   "outputs": [],
   "source": [
    "# Moyennes par salle\n",
    "df.groupby('Salle').mean()"
   ]
  },
  {
   "cell_type": "code",
   "execution_count": null,
   "id": "d9543a3c",
   "metadata": {},
   "outputs": [],
   "source": [
    "# Moyennes par année\n",
    "df.groupby(df['date_time'].dt.year).mean()"
   ]
  },
  {
   "cell_type": "code",
   "execution_count": null,
   "id": "064b320f",
   "metadata": {},
   "outputs": [],
   "source": [
    "# Moyennes par année\n",
    "plt.figure(figsize=(20, 8))\n",
    "plt.plot(df.groupby(df['date_time'].dt.year.astype(str)).mean()['Payants'], label='Payants', color='green')\n",
    "plt.plot(df.groupby(df['date_time'].dt.year.astype(str)).mean()['Nombre entrees'], label='Total', color='blue')\n",
    "\n",
    "plt.legend(title='Entrées')\n",
    "\n",
    "plt.ylabel('Nombre d\\'entrées moyen', fontsize=14)\n",
    "plt.xlabel('Années', fontsize=14)\n",
    "plt.title('Nombre d\\'entrées moyen par année', fontsize=16)\n",
    "\n",
    "\n",
    "plt.show()"
   ]
  },
  {
   "cell_type": "code",
   "execution_count": null,
   "id": "2c55c21a",
   "metadata": {},
   "outputs": [],
   "source": [
    "# Taux de remplissage par salle et par année\n",
    "df.groupby(['Salle', df['date_time'].dt.year.astype(str)]).mean()['Taux remplissage'].unstack(level=0).plot(figsize=(20,8));\n",
    "\n",
    "plt.ylabel('Taux de remplissage (%)', fontsize=14)\n",
    "plt.xlabel('Années', fontsize=14)\n",
    "plt.title('Taux de remplissage par salle et par année', fontsize=16)\n",
    "\n",
    "\n",
    "plt.show();"
   ]
  },
  {
   "cell_type": "code",
   "execution_count": null,
   "id": "5c17f0e8",
   "metadata": {},
   "outputs": [],
   "source": [
    "# Top nombre d'entrées par film\n",
    "df.groupby('Film').sum()['Nombre entrees'].sort_values(ascending=True).tail(10).plot(kind='barh',figsize=(20,13));\n",
    "\n",
    "plt.ylabel('Nombre total d\\'entrées', fontsize=14)\n",
    "plt.xlabel('Film', fontsize=14)\n",
    "plt.title('Nombre total d\\'entrees par film (Top 10)', fontsize=16)\n",
    "\n",
    "\n",
    "plt.show();"
   ]
  },
  {
   "cell_type": "markdown",
   "id": "2a88de84",
   "metadata": {},
   "source": [
    "### Analyse de la série temporelle"
   ]
  },
  {
   "cell_type": "code",
   "execution_count": null,
   "id": "47d10604",
   "metadata": {},
   "outputs": [],
   "source": [
    "# Préparation données pour Prophet\n",
    "df_prophet = pd.DataFrame()\n",
    "df_prophet['ds'] = df[\"date_time\"]\n",
    "df_prophet['y'] = df['Nombre entrees']"
   ]
  },
  {
   "cell_type": "code",
   "execution_count": null,
   "id": "df2980d5",
   "metadata": {},
   "outputs": [],
   "source": [
    "# aggrégation sur le time stamp\n",
    "df_prophet= df_prophet.groupby(['ds']).sum()\n",
    "df_prophet['ds'] = df_prophet.index\n",
    "df_prophet = df_prophet.reindex(columns = ['ds', 'y'])"
   ]
  },
  {
   "cell_type": "code",
   "execution_count": null,
   "id": "57ebfa8f",
   "metadata": {},
   "outputs": [],
   "source": [
    "# réechantillonnage à la journée\n",
    "r = df_prophet.resample('1d')\n",
    "df_day = r.agg(np.sum)\n",
    "df_day['ds'] = df_day.index\n",
    "df_day = df_day.reindex(columns = ['ds', 'y'])\n",
    "df_day.plot('ds','y', figsize = (15,10))\n",
    "plt.show()"
   ]
  },
  {
   "cell_type": "code",
   "execution_count": null,
   "id": "46143831",
   "metadata": {},
   "outputs": [],
   "source": []
  }
 ],
 "metadata": {
  "kernelspec": {
   "display_name": "cine_kernel",
   "language": "python",
   "name": "cine_kernel"
  },
  "language_info": {
   "codemirror_mode": {
    "name": "ipython",
    "version": 3
   },
   "file_extension": ".py",
   "mimetype": "text/x-python",
   "name": "python",
   "nbconvert_exporter": "python",
   "pygments_lexer": "ipython3",
   "version": "3.7.4"
  },
  "toc": {
   "base_numbering": 1,
   "nav_menu": {},
   "number_sections": true,
   "sideBar": true,
   "skip_h1_title": true,
   "title_cell": "Table of Contents",
   "title_sidebar": "Contents",
   "toc_cell": false,
   "toc_position": {},
   "toc_section_display": true,
   "toc_window_display": false
  }
 },
 "nbformat": 4,
 "nbformat_minor": 5
}
