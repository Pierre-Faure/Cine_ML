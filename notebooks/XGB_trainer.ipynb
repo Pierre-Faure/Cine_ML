{
  "nbformat": 4,
  "nbformat_minor": 0,
  "metadata": {
    "colab": {
      "provenance": [],
      "collapsed_sections": [],
      "authorship_tag": "ABX9TyOrai+WK/S8X8RidHyd3Z5C",
      "include_colab_link": true
    },
    "kernelspec": {
      "name": "python3",
      "display_name": "Python 3"
    },
    "language_info": {
      "name": "python"
    },
    "accelerator": "GPU"
  },
  "cells": [
    {
      "cell_type": "markdown",
      "metadata": {
        "id": "view-in-github",
        "colab_type": "text"
      },
      "source": [
        "<a href=\"https://colab.research.google.com/github/Pierre-Faure/Cine_ML/blob/main/notebooks/XGB_trainer.ipynb\" target=\"_parent\"><img src=\"https://colab.research.google.com/assets/colab-badge.svg\" alt=\"Open In Colab\"/></a>"
      ]
    },
    {
      "cell_type": "code",
      "execution_count": null,
      "metadata": {
        "colab": {
          "base_uri": "https://localhost:8080/"
        },
        "id": "S5K4Dik1xwxt",
        "outputId": "107bb68c-1678-4ab6-ad1c-b2188059d9af"
      },
      "outputs": [
        {
          "output_type": "stream",
          "name": "stdout",
          "text": [
            "Mounted at /content/gdrive\n"
          ]
        }
      ],
      "source": [
        "# Montage disque google drive\n",
        "from google.colab import drive\n",
        "drive.mount('/content/gdrive')"
      ]
    },
    {
      "cell_type": "code",
      "source": [
        "# Indique quel GPU est utilisé\n",
        "gpu_info = !nvidia-smi\n",
        "gpu_info = '\\n'.join(gpu_info)\n",
        "if gpu_info.find('failed') >= 0:\n",
        "  print('Not connected to a GPU')\n",
        "else:\n",
        "  print(gpu_info)"
      ],
      "metadata": {
        "colab": {
          "base_uri": "https://localhost:8080/"
        },
        "id": "mcwDzXYXyFco",
        "outputId": "a77bf8bb-2941-4170-f1e1-24deb6180a79"
      },
      "execution_count": null,
      "outputs": [
        {
          "output_type": "stream",
          "name": "stdout",
          "text": [
            "Tue Oct 25 08:13:20 2022       \n",
            "+-----------------------------------------------------------------------------+\n",
            "| NVIDIA-SMI 460.32.03    Driver Version: 460.32.03    CUDA Version: 11.2     |\n",
            "|-------------------------------+----------------------+----------------------+\n",
            "| GPU  Name        Persistence-M| Bus-Id        Disp.A | Volatile Uncorr. ECC |\n",
            "| Fan  Temp  Perf  Pwr:Usage/Cap|         Memory-Usage | GPU-Util  Compute M. |\n",
            "|                               |                      |               MIG M. |\n",
            "|===============================+======================+======================|\n",
            "|   0  Tesla T4            Off  | 00000000:00:04.0 Off |                    0 |\n",
            "| N/A   64C    P8    11W /  70W |      0MiB / 15109MiB |      0%      Default |\n",
            "|                               |                      |                  N/A |\n",
            "+-------------------------------+----------------------+----------------------+\n",
            "                                                                               \n",
            "+-----------------------------------------------------------------------------+\n",
            "| Processes:                                                                  |\n",
            "|  GPU   GI   CI        PID   Type   Process name                  GPU Memory |\n",
            "|        ID   ID                                                   Usage      |\n",
            "|=============================================================================|\n",
            "|  No running processes found                                                 |\n",
            "+-----------------------------------------------------------------------------+\n"
          ]
        }
      ]
    },
    {
      "cell_type": "code",
      "source": [
        "#!pip install xgboost==1.6.2"
      ],
      "metadata": {
        "colab": {
          "base_uri": "https://localhost:8080/"
        },
        "id": "-rRZEzSZ8k_6",
        "outputId": "356b3b1f-6e55-4233-9183-ba54360d0c51"
      },
      "execution_count": null,
      "outputs": [
        {
          "output_type": "stream",
          "name": "stdout",
          "text": [
            "Looking in indexes: https://pypi.org/simple, https://us-python.pkg.dev/colab-wheels/public/simple/\n",
            "Collecting xgboost==1.6.2\n",
            "  Downloading xgboost-1.6.2-py3-none-manylinux2014_x86_64.whl (255.9 MB)\n",
            "\u001b[K     |████████████████████████████████| 255.9 MB 47 kB/s \n",
            "\u001b[?25hRequirement already satisfied: numpy in /usr/local/lib/python3.7/dist-packages (from xgboost==1.6.2) (1.21.6)\n",
            "Requirement already satisfied: scipy in /usr/local/lib/python3.7/dist-packages (from xgboost==1.6.2) (1.7.3)\n",
            "Installing collected packages: xgboost\n",
            "  Attempting uninstall: xgboost\n",
            "    Found existing installation: xgboost 0.90\n",
            "    Uninstalling xgboost-0.90:\n",
            "      Successfully uninstalled xgboost-0.90\n",
            "Successfully installed xgboost-1.6.2\n"
          ]
        }
      ]
    },
    {
      "cell_type": "code",
      "source": [
        "import pandas as pd\n",
        "import numpy as np\n",
        "import os\n",
        "import sys\n",
        "from ast import literal_eval\n",
        "from time import time\n",
        "\n",
        "PROJECT_PATH = \"gdrive/MyDrive/Data Science/Cine ML/\"\n",
        "\n",
        "sys.path.append(PROJECT_PATH)\n",
        "FILE_PATH = os.path.join(PROJECT_PATH, \"data\", \"complete_df.csv\")"
      ],
      "metadata": {
        "id": "SulNcnRFyHqN"
      },
      "execution_count": null,
      "outputs": []
    },
    {
      "cell_type": "code",
      "source": [
        "print(FILE_PATH)"
      ],
      "metadata": {
        "colab": {
          "base_uri": "https://localhost:8080/"
        },
        "id": "r75K9qjCzssH",
        "outputId": "c1549aec-e167-4dbb-a4e5-60a874e6fcb2"
      },
      "execution_count": null,
      "outputs": [
        {
          "output_type": "stream",
          "name": "stdout",
          "text": [
            "gdrive/MyDrive/Data Science/Cine ML/data/complete_df.csv\n"
          ]
        }
      ]
    },
    {
      "cell_type": "code",
      "source": [
        "from sklearn.metrics import mean_squared_error, mean_absolute_error\n",
        "def calculer_metriques_regression(y_train, y_test, y_pred_train, y_pred_test):\n",
        "    print(f\"RMSE (train) :{mean_squared_error(y_train, y_pred_train, squared=False)}\")\n",
        "    print(f\"MAE (train) :{mean_absolute_error(y_train, y_pred_train)}\")\n",
        "    print(f\"RMSE (test) :{mean_squared_error(y_test, y_pred_test, squared=False)}\")\n",
        "    print(f\"MAE (test) :{mean_absolute_error(y_test, y_pred_test)}\")"
      ],
      "metadata": {
        "id": "C6jcUJZL9j6p"
      },
      "execution_count": null,
      "outputs": []
    },
    {
      "cell_type": "code",
      "source": [
        "def complete_data_recuperation(file_path):\n",
        "    df = pd.read_csv(file_path)\n",
        "    df['date_time'] = pd.to_datetime(df['date_time'])\n",
        "\n",
        "    df['Nombre entrees'] = df[[\"Payants\", \"Gratuits\"]].sum(axis=1)\n",
        "\n",
        "    df['jour_semaine_seance'] = df['date_time'].dt.strftime(\"%A\")\n",
        "    df['jour_seance'] = df['date_time'].dt.strftime(\"%d\")\n",
        "    df['annee_seance'] = df['date_time'].dt.strftime(\"%G\")\n",
        "    df['heure_seance'] = df['date_time'].dt.strftime(\"%H\")\n",
        "    df['mois_seance'] = df['date_time'].dt.strftime(\"%B\")\n",
        "\n",
        "    s = df['Genre'].apply(lambda a: literal_eval(a) if pd.notnull(a) else a).explode()\n",
        "    df = df.join(pd.crosstab(s.index, s))\n",
        "\n",
        "    try:\n",
        "        df['Taux remplissage'] = df['Taux remplissage'].str.rstrip('%').str.replace(',', '.').astype('float')\n",
        "    except:\n",
        "        print('Nothing to do')\n",
        "\n",
        "    df = df.replace(['N/A', -1], np.nan)\n",
        "\n",
        "    df[\"Heure du lever du soleil\"] = pd.to_datetime(df[\"Heure du lever du soleil\"], format='%H:%M:%S').dt.time\n",
        "    df[\"Heure du coucher du soleil\"] = pd.to_datetime(df[\"Heure du coucher du soleil\"], format='%H:%M:%S').dt.time\n",
        "    df[\"Durée du jour\"] = pd.to_timedelta(df[\"Durée du jour\"])\n",
        "    df[\"Point de rosée\"] = df[\"Point de rosée\"].str.replace('°C', '').astype('float')\n",
        "    df[\"Température maximale\"] = df[\"Température maximale\"].str.replace('°', '').astype('float')\n",
        "    df[\"Température minimale\"] = df[\"Température minimale\"].str.replace('°', '').astype('float')\n",
        "    df[\"Vitesse du vent\"] = df[\"Vitesse du vent\"].str.replace('km/h', '').astype('float')\n",
        "    df[\"Température du vent\"] = df[\"Température du vent\"].str.replace('°', '').astype('float')\n",
        "    df[\"Précipitations\"] = df[\"Précipitations\"].str.replace('mm', '').astype('float')\n",
        "    df[\"Humidité\"] = df[\"Humidité\"].str.replace('%', '').astype('float')\n",
        "    df[\"Visibilité\"] = df[\"Visibilité\"].str.replace('km', '').astype('float')\n",
        "    df[\"Couverture nuageuse\"] = df[\"Couverture nuageuse\"].str.replace('%', '').astype('float')\n",
        "    df[\"Pression\"] = df[\"Pression\"].str.replace('hPa', '').astype('float')\n",
        "\n",
        "    df = df.rename(columns={\n",
        "        \"Température maximale\": \"Max_temp\",\n",
        "        \"Température minimale\": \"Min_temp\",\n",
        "        \"Vitesse du vent\": \"Vitesse_vent\",\n",
        "        \"Température du vent\": \"Temp_vent\",\n",
        "        \"Précipitations\": \"Precipitations\",\n",
        "        \"Humidité\": \"Humidite\",\n",
        "        \"Visibilité\": \"Visibilite\",\n",
        "        \"Point de rosée\": \"Point de rosee\",\n",
        "        \"Heure du lever du soleil\": \"Lever_soleil\",\n",
        "        \"Heure du coucher du soleil\": \"Coucher_soleil\",\n",
        "        \"Durée du jour\": \"Duree du jour\",\n",
        "        \"L'avis de  historique-meteo.net\": \"Avis_meteo\"\n",
        "    })\n",
        "\n",
        "    cat_cols = ['Salle', 'Film', 'Version', 'Relief', 'FullTitle', 'Adult', 'Release', 'Language',\n",
        "                'Lever_soleil', 'Coucher_soleil',\n",
        "                'Duree du jour', 'Avis_meteo', 'nom_vacances', 'jour_semaine_seance', 'jour_seance',\n",
        "                'annee_seance', 'heure_seance', 'mois_seance']\n",
        "\n",
        "    df[cat_cols] = df[cat_cols].astype('category')\n",
        "\n",
        "    return df"
      ],
      "metadata": {
        "id": "D0fW3Q8yyHsz"
      },
      "execution_count": null,
      "outputs": []
    },
    {
      "cell_type": "code",
      "source": [
        "def search_best_params(model, param_grid, metric, k, display_train_score, X, y, n_jobs=None, **fit_params):\n",
        "    \"\"\"\n",
        "    :param model: instance du modele \n",
        "    :param grid: grille de parametres\n",
        "    :param metric: chaine de caractère précisant la métrique d'évaluation\n",
        "    :param display_train_score: booleen precisant si les scores sur le dataset de train est affiché \n",
        "    :param X: features du jeu d'entrainement\n",
        "    :param y: variable reponse du jeu d'entrainement\n",
        "    :param fit_params (optionnel) : si fourni, déclenche l'early stopping avec les paramètres du dictionnaire\n",
        "    :return: - le modele optimise avec les meilleurs parametres (objet GridSearchCV)\n",
        "             - un Dataframe contenant les resultats du grid_search pour chaque combinaison de parametre\n",
        "    \"\"\"\n",
        "    \n",
        "    from time import time\n",
        "    from sklearn.model_selection import GridSearchCV\n",
        "    \n",
        "    grid_search = GridSearchCV(model, \n",
        "                               param_grid,\n",
        "                               scoring = metric,\n",
        "                               cv = k, \n",
        "                               return_train_score = display_train_score, \n",
        "                               n_jobs = n_jobs\n",
        "                              )\n",
        "    \n",
        "    tstart = time()\n",
        "    grid_search.fit(X, y, **fit_params)\n",
        "    tend = time() - tstart\n",
        "    \n",
        "    # stockage des resultats dans un DataFrame\n",
        "    results_grid_search = pd.DataFrame(grid_search.cv_results_).sort_values(by = ['rank_test_score'])\n",
        "    \n",
        "    print(\"-------------- GridSearchCV {} --------------\".format(model.__class__.__name__))\n",
        "    mm, ss = divmod(tend, 60)\n",
        "    hh, mm= divmod(mm, 60)\n",
        "    print('Temps de calcul:', hh, ':', mm, ':', ss)\n",
        "    print(\"Best parameters: {}\".format(grid_search.best_params_))\n",
        "    print(\"Best cross-validation score ({}): {:.3f} (std: {:.3f})\".format(metric, grid_search.best_score_,\n",
        "                    results_grid_search['std_test_score'].iloc[0]))\n",
        "    print(\"\\n\")\n",
        "    \n",
        "    return grid_search, results_grid_search"
      ],
      "metadata": {
        "id": "fQ-Ee_9uTmff"
      },
      "execution_count": 38,
      "outputs": []
    },
    {
      "cell_type": "code",
      "source": [
        "df = complete_data_recuperation(FILE_PATH)"
      ],
      "metadata": {
        "id": "1k0abtqeyHvf"
      },
      "execution_count": null,
      "outputs": []
    },
    {
      "cell_type": "code",
      "source": [
        "df.info()"
      ],
      "metadata": {
        "colab": {
          "base_uri": "https://localhost:8080/"
        },
        "id": "Uoxbk9HA5xgJ",
        "outputId": "20889d6e-29ff-4637-860e-9ad18ab9726a"
      },
      "execution_count": null,
      "outputs": [
        {
          "output_type": "stream",
          "name": "stdout",
          "text": [
            "<class 'pandas.core.frame.DataFrame'>\n",
            "RangeIndex: 25525 entries, 0 to 25524\n",
            "Data columns (total 63 columns):\n",
            " #   Column               Non-Null Count  Dtype         \n",
            "---  ------               --------------  -----         \n",
            " 0   date_time            25525 non-null  datetime64[ns]\n",
            " 1   Salle                25525 non-null  category      \n",
            " 2   Film                 25525 non-null  category      \n",
            " 3   Version              25525 non-null  category      \n",
            " 4   Relief               25525 non-null  category      \n",
            " 5   Payants              23186 non-null  float64       \n",
            " 6   Gratuits             3470 non-null   float64       \n",
            " 7   Places libres        25495 non-null  float64       \n",
            " 8   Taux remplissage     23260 non-null  float64       \n",
            " 9   FullTitle            25333 non-null  category      \n",
            " 10  Adult                25333 non-null  category      \n",
            " 11  Release              25224 non-null  category      \n",
            " 12  Language             25333 non-null  category      \n",
            " 13  Genre                24840 non-null  object        \n",
            " 14  Popularity           25333 non-null  float64       \n",
            " 15  Vote_average         24024 non-null  float64       \n",
            " 16  Vote_count           24024 non-null  float64       \n",
            " 17  Overview             24380 non-null  object        \n",
            " 18  Max_temp             24187 non-null  float64       \n",
            " 19  Min_temp             24187 non-null  float64       \n",
            " 20  Vitesse_vent         24187 non-null  float64       \n",
            " 21  Temp_vent            24187 non-null  float64       \n",
            " 22  Precipitations       19065 non-null  float64       \n",
            " 23  Humidite             24187 non-null  float64       \n",
            " 24  Visibilite           24187 non-null  float64       \n",
            " 25  Couverture nuageuse  24187 non-null  float64       \n",
            " 26  Indice de chaleur    24187 non-null  float64       \n",
            " 27  Point de rosee       23702 non-null  float64       \n",
            " 28  Pression             24187 non-null  float64       \n",
            " 29  Lever_soleil         24187 non-null  category      \n",
            " 30  Coucher_soleil       24187 non-null  category      \n",
            " 31  Duree du jour        24187 non-null  category      \n",
            " 32  Avis_meteo           24187 non-null  category      \n",
            " 33  vacances_zone_a      25525 non-null  bool          \n",
            " 34  vacances_zone_b      25525 non-null  bool          \n",
            " 35  vacances_zone_c      25525 non-null  bool          \n",
            " 36  nom_vacances         11674 non-null  category      \n",
            " 37  ferie                25525 non-null  bool          \n",
            " 38  Nombre entrees       25525 non-null  float64       \n",
            " 39  jour_semaine_seance  25525 non-null  category      \n",
            " 40  jour_seance          25525 non-null  category      \n",
            " 41  annee_seance         25525 non-null  category      \n",
            " 42  heure_seance         25525 non-null  category      \n",
            " 43  mois_seance          25525 non-null  category      \n",
            " 44  Action               24840 non-null  float64       \n",
            " 45  Adventure            24840 non-null  float64       \n",
            " 46  Animation            24840 non-null  float64       \n",
            " 47  Comedy               24840 non-null  float64       \n",
            " 48  Crime                24840 non-null  float64       \n",
            " 49  Documentary          24840 non-null  float64       \n",
            " 50  Drama                24840 non-null  float64       \n",
            " 51  Family               24840 non-null  float64       \n",
            " 52  Fantasy              24840 non-null  float64       \n",
            " 53  History              24840 non-null  float64       \n",
            " 54  Horror               24840 non-null  float64       \n",
            " 55  Music                24840 non-null  float64       \n",
            " 56  Mystery              24840 non-null  float64       \n",
            " 57  Romance              24840 non-null  float64       \n",
            " 58  Science Fiction      24840 non-null  float64       \n",
            " 59  TV Movie             24840 non-null  float64       \n",
            " 60  Thriller             24840 non-null  float64       \n",
            " 61  War                  24840 non-null  float64       \n",
            " 62  Western              24840 non-null  float64       \n",
            "dtypes: bool(4), category(18), datetime64[ns](1), float64(38), object(2)\n",
            "memory usage: 8.8+ MB\n"
          ]
        }
      ]
    },
    {
      "cell_type": "code",
      "source": [
        "# Preparation des données\n",
        "df_train = df[['Salle', 'Film', 'Version', 'Relief', 'FullTitle', 'Adult',\n",
        "       'Release', 'Language', 'Popularity', 'Vote_average',\n",
        "       'Vote_count', 'Max_temp', 'Min_temp', 'Vitesse_vent',\n",
        "       'Temp_vent', 'Precipitations', 'Humidite', 'Visibilite',\n",
        "       'Couverture nuageuse', 'Indice de chaleur', 'Point de rosee',\n",
        "       'Pression', 'Lever_soleil', 'Coucher_soleil', 'Duree du jour',\n",
        "       'Avis_meteo', 'vacances_zone_a', 'vacances_zone_b', 'vacances_zone_c',\n",
        "       'nom_vacances', 'ferie', 'Nombre entrees', 'jour_semaine_seance',\n",
        "       'jour_seance', 'annee_seance', 'heure_seance', 'mois_seance', 'Action',\n",
        "       'Adventure', 'Animation', 'Comedy', 'Crime', 'Documentary', 'Drama',\n",
        "       'Family', 'Fantasy', 'History', 'Horror', 'Music', 'Mystery', 'Romance',\n",
        "       'Science Fiction', 'TV Movie', 'Thriller', 'War', 'Western']]\n",
        "\n",
        "cat_cols = ['Salle', 'Film', 'Version', 'Relief', 'FullTitle', 'Adult', 'Release', 'Language',\n",
        "            'Lever_soleil', 'Coucher_soleil',\n",
        "            'Duree du jour', 'Avis_meteo', 'nom_vacances', 'jour_semaine_seance', 'jour_seance',\n",
        "            'annee_seance', 'heure_seance', 'mois_seance']\n",
        "\n",
        "df_train[cat_cols] = df_train[cat_cols].astype('category')"
      ],
      "metadata": {
        "id": "aajv3zoV0rzG",
        "colab": {
          "base_uri": "https://localhost:8080/"
        },
        "outputId": "565c3f99-1a02-4d63-a1b0-b1828e71ec20"
      },
      "execution_count": null,
      "outputs": [
        {
          "output_type": "stream",
          "name": "stderr",
          "text": [
            "/usr/local/lib/python3.7/dist-packages/pandas/core/frame.py:3641: SettingWithCopyWarning: \n",
            "A value is trying to be set on a copy of a slice from a DataFrame.\n",
            "Try using .loc[row_indexer,col_indexer] = value instead\n",
            "\n",
            "See the caveats in the documentation: https://pandas.pydata.org/pandas-docs/stable/user_guide/indexing.html#returning-a-view-versus-a-copy\n",
            "  self[k1] = value[k2]\n"
          ]
        }
      ]
    },
    {
      "cell_type": "code",
      "source": [
        "df_train.info()"
      ],
      "metadata": {
        "colab": {
          "base_uri": "https://localhost:8080/"
        },
        "id": "3G_vGwb07NXE",
        "outputId": "77002e0b-4322-427c-ce12-91914902d697"
      },
      "execution_count": null,
      "outputs": [
        {
          "output_type": "stream",
          "name": "stdout",
          "text": [
            "<class 'pandas.core.frame.DataFrame'>\n",
            "RangeIndex: 25525 entries, 0 to 25524\n",
            "Data columns (total 56 columns):\n",
            " #   Column               Non-Null Count  Dtype   \n",
            "---  ------               --------------  -----   \n",
            " 0   Salle                25525 non-null  category\n",
            " 1   Film                 25525 non-null  category\n",
            " 2   Version              25525 non-null  category\n",
            " 3   Relief               25525 non-null  category\n",
            " 4   FullTitle            25333 non-null  category\n",
            " 5   Adult                25333 non-null  category\n",
            " 6   Release              25224 non-null  category\n",
            " 7   Language             25333 non-null  category\n",
            " 8   Popularity           25333 non-null  float64 \n",
            " 9   Vote_average         24024 non-null  float64 \n",
            " 10  Vote_count           24024 non-null  float64 \n",
            " 11  Max_temp             24187 non-null  float64 \n",
            " 12  Min_temp             24187 non-null  float64 \n",
            " 13  Vitesse_vent         24187 non-null  float64 \n",
            " 14  Temp_vent            24187 non-null  float64 \n",
            " 15  Precipitations       19065 non-null  float64 \n",
            " 16  Humidite             24187 non-null  float64 \n",
            " 17  Visibilite           24187 non-null  float64 \n",
            " 18  Couverture nuageuse  24187 non-null  float64 \n",
            " 19  Indice de chaleur    24187 non-null  float64 \n",
            " 20  Point de rosee       23702 non-null  float64 \n",
            " 21  Pression             24187 non-null  float64 \n",
            " 22  Lever_soleil         24187 non-null  category\n",
            " 23  Coucher_soleil       24187 non-null  category\n",
            " 24  Duree du jour        24187 non-null  category\n",
            " 25  Avis_meteo           24187 non-null  category\n",
            " 26  vacances_zone_a      25525 non-null  bool    \n",
            " 27  vacances_zone_b      25525 non-null  bool    \n",
            " 28  vacances_zone_c      25525 non-null  bool    \n",
            " 29  nom_vacances         11674 non-null  category\n",
            " 30  ferie                25525 non-null  bool    \n",
            " 31  Nombre entrees       25525 non-null  float64 \n",
            " 32  jour_semaine_seance  25525 non-null  category\n",
            " 33  jour_seance          25525 non-null  category\n",
            " 34  annee_seance         25525 non-null  category\n",
            " 35  heure_seance         25525 non-null  category\n",
            " 36  mois_seance          25525 non-null  category\n",
            " 37  Action               24840 non-null  float64 \n",
            " 38  Adventure            24840 non-null  float64 \n",
            " 39  Animation            24840 non-null  float64 \n",
            " 40  Comedy               24840 non-null  float64 \n",
            " 41  Crime                24840 non-null  float64 \n",
            " 42  Documentary          24840 non-null  float64 \n",
            " 43  Drama                24840 non-null  float64 \n",
            " 44  Family               24840 non-null  float64 \n",
            " 45  Fantasy              24840 non-null  float64 \n",
            " 46  History              24840 non-null  float64 \n",
            " 47  Horror               24840 non-null  float64 \n",
            " 48  Music                24840 non-null  float64 \n",
            " 49  Mystery              24840 non-null  float64 \n",
            " 50  Romance              24840 non-null  float64 \n",
            " 51  Science Fiction      24840 non-null  float64 \n",
            " 52  TV Movie             24840 non-null  float64 \n",
            " 53  Thriller             24840 non-null  float64 \n",
            " 54  War                  24840 non-null  float64 \n",
            " 55  Western              24840 non-null  float64 \n",
            "dtypes: bool(4), category(18), float64(34)\n",
            "memory usage: 7.4 MB\n"
          ]
        }
      ]
    },
    {
      "cell_type": "code",
      "source": [
        "X_xgb = df_train.drop(columns = ['Nombre entrees'])\n",
        "y_xgb = df_train['Nombre entrees']"
      ],
      "metadata": {
        "id": "_cyhkoUb66Et"
      },
      "execution_count": null,
      "outputs": []
    },
    {
      "cell_type": "code",
      "source": [
        "from sklearn import model_selection\n",
        "X_train,X_test,y_train,y_test=model_selection.train_test_split(X_xgb,y_xgb,test_size=0.3,random_state=42)"
      ],
      "metadata": {
        "id": "Mf9G9yGN0r1a"
      },
      "execution_count": null,
      "outputs": []
    },
    {
      "cell_type": "code",
      "source": [
        "# Séparation du jeu de train et d'eval\n",
        "X_xgb_train,X_xgb_eval,y_xgb_train,y_xgb_eval=model_selection.train_test_split(X_train,y_train,\n",
        "                                                                               test_size=0.3,\n",
        "                                                                               random_state=42)\n",
        "eval_set = [(X_xgb_train, y_xgb_train), (X_xgb_eval, y_xgb_eval)]"
      ],
      "metadata": {
        "id": "Jhw8l75qQYBC"
      },
      "execution_count": 19,
      "outputs": []
    },
    {
      "cell_type": "code",
      "source": [
        "print(X_xgb.shape)\n",
        "print('\\n')\n",
        "print(X_train.shape)\n",
        "print(X_test.shape)\n",
        "print('\\n')\n",
        "print(X_xgb_train.shape)\n",
        "print(X_xgb_eval.shape)"
      ],
      "metadata": {
        "colab": {
          "base_uri": "https://localhost:8080/"
        },
        "id": "G_IbtX-zQFZi",
        "outputId": "700087a2-3646-4790-9526-a884f4ad91cb"
      },
      "execution_count": 20,
      "outputs": [
        {
          "output_type": "stream",
          "name": "stdout",
          "text": [
            "(25525, 55)\n",
            "\n",
            "\n",
            "(17867, 55)\n",
            "(7658, 55)\n",
            "\n",
            "\n",
            "(12506, 55)\n",
            "(5361, 55)\n"
          ]
        }
      ]
    },
    {
      "cell_type": "code",
      "source": [
        "import xgboost as xgb\n",
        "model_xgb = xgb.XGBRegressor(n_estimators=250,\n",
        "                             tree_method=\"gpu_hist\",\n",
        "                             enable_categorical=True,\n",
        "                             early_stopping_rounds = 20,\n",
        "                             use_label_encoder=False)\n",
        "model_xgb.get_params()"
      ],
      "metadata": {
        "colab": {
          "base_uri": "https://localhost:8080/"
        },
        "id": "B1Uq6q6O0r4C",
        "outputId": "f6eb4a19-cd8f-4d6b-8706-1626f7de0b66"
      },
      "execution_count": 28,
      "outputs": [
        {
          "output_type": "execute_result",
          "data": {
            "text/plain": [
              "{'objective': 'reg:squarederror',\n",
              " 'base_score': None,\n",
              " 'booster': None,\n",
              " 'callbacks': None,\n",
              " 'colsample_bylevel': None,\n",
              " 'colsample_bynode': None,\n",
              " 'colsample_bytree': None,\n",
              " 'early_stopping_rounds': 20,\n",
              " 'enable_categorical': True,\n",
              " 'eval_metric': None,\n",
              " 'gamma': None,\n",
              " 'gpu_id': None,\n",
              " 'grow_policy': None,\n",
              " 'importance_type': None,\n",
              " 'interaction_constraints': None,\n",
              " 'learning_rate': None,\n",
              " 'max_bin': None,\n",
              " 'max_cat_to_onehot': None,\n",
              " 'max_delta_step': None,\n",
              " 'max_depth': None,\n",
              " 'max_leaves': None,\n",
              " 'min_child_weight': None,\n",
              " 'missing': nan,\n",
              " 'monotone_constraints': None,\n",
              " 'n_estimators': 250,\n",
              " 'n_jobs': None,\n",
              " 'num_parallel_tree': None,\n",
              " 'predictor': None,\n",
              " 'random_state': None,\n",
              " 'reg_alpha': None,\n",
              " 'reg_lambda': None,\n",
              " 'sampling_method': None,\n",
              " 'scale_pos_weight': None,\n",
              " 'subsample': None,\n",
              " 'tree_method': 'gpu_hist',\n",
              " 'validate_parameters': None,\n",
              " 'verbosity': None,\n",
              " 'use_label_encoder': False}"
            ]
          },
          "metadata": {},
          "execution_count": 28
        }
      ]
    },
    {
      "cell_type": "code",
      "source": [
        "start=time()\n",
        "model_xgb.fit(X_xgb_train,\n",
        "              y_xgb_train,\n",
        "              eval_set=eval_set,\n",
        "              verbose=True)\n",
        "print('temps apprentissage: '+str(time()-start))"
      ],
      "metadata": {
        "colab": {
          "base_uri": "https://localhost:8080/"
        },
        "id": "fkgTTEWW0r6i",
        "outputId": "0fa0a355-c4e8-4c51-a2a2-88ae1dfd55fe"
      },
      "execution_count": 29,
      "outputs": [
        {
          "output_type": "stream",
          "name": "stdout",
          "text": [
            "[0]\tvalidation_0-rmse:613.19857\tvalidation_1-rmse:5415.60357\n",
            "[1]\tvalidation_0-rmse:2568.60099\tvalidation_1-rmse:5680.64232\n",
            "[2]\tvalidation_0-rmse:58599.12295\tvalidation_1-rmse:57953.30924\n",
            "[3]\tvalidation_0-rmse:34935973.43435\tvalidation_1-rmse:35811528.29048\n",
            "[4]\tvalidation_0-rmse:5426492974.75072\tvalidation_1-rmse:5413730378.59089\n",
            "[5]\tvalidation_0-rmse:2092539597783.13965\tvalidation_1-rmse:1898750918274.77490\n",
            "[6]\tvalidation_0-rmse:823436403728622.37500\tvalidation_1-rmse:1008819935776245.25000\n",
            "[7]\tvalidation_0-rmse:604029153688618112.00000\tvalidation_1-rmse:582380980977679232.00000\n",
            "[8]\tvalidation_0-rmse:586599553476999808.00000\tvalidation_1-rmse:566140916067146880.00000\n",
            "[9]\tvalidation_0-rmse:814389240881326080.00000\tvalidation_1-rmse:1264154366009751808.00000\n",
            "[10]\tvalidation_0-rmse:802334791774633984.00000\tvalidation_1-rmse:1272990138842872064.00000\n",
            "[11]\tvalidation_0-rmse:2422178401966839808.00000\tvalidation_1-rmse:2429529520591057920.00000\n",
            "[12]\tvalidation_0-rmse:2404869544884755968.00000\tvalidation_1-rmse:2390262162025894912.00000\n",
            "[13]\tvalidation_0-rmse:2396342050510052352.00000\tvalidation_1-rmse:2366096216560162304.00000\n",
            "[14]\tvalidation_0-rmse:2392152131333069312.00000\tvalidation_1-rmse:2350860813763920896.00000\n",
            "[15]\tvalidation_0-rmse:2381603305080382976.00000\tvalidation_1-rmse:2343560337666228224.00000\n",
            "[16]\tvalidation_0-rmse:2369645575030087680.00000\tvalidation_1-rmse:2377967917458900992.00000\n",
            "[17]\tvalidation_0-rmse:2348388145695457280.00000\tvalidation_1-rmse:2462895348272025088.00000\n",
            "[18]\tvalidation_0-rmse:2335308573872394240.00000\tvalidation_1-rmse:2490462632371464704.00000\n",
            "[19]\tvalidation_0-rmse:2324307332916396032.00000\tvalidation_1-rmse:2572860520416632832.00000\n",
            "[20]\tvalidation_0-rmse:2312618712498372096.00000\tvalidation_1-rmse:2598949898192754688.00000\n",
            "temps apprentissage: 0.4662601947784424\n"
          ]
        }
      ]
    },
    {
      "cell_type": "code",
      "source": [
        "y_xgb_pred_train = model_xgb.predict(X_train)\n",
        "y_xgb_pred_test = model_xgb.predict(X_test)\n",
        "calculer_metriques_regression(y_train, y_test, y_xgb_pred_train, y_xgb_pred_test)"
      ],
      "metadata": {
        "colab": {
          "base_uri": "https://localhost:8080/"
        },
        "id": "2miXKL9C8jXY",
        "outputId": "44b76f9f-63ee-483b-bb55-9f4a0956e14d"
      },
      "execution_count": 30,
      "outputs": [
        {
          "output_type": "stream",
          "name": "stdout",
          "text": [
            "RMSE (train) :5375.594624018611\n",
            "MAE (train) :1742.299819672739\n",
            "RMSE (test) :5301.9228685647795\n",
            "MAE (test) :1695.9155842117143\n"
          ]
        }
      ]
    },
    {
      "cell_type": "code",
      "source": [
        "# Grid search params\n",
        "param_grid_xgb = {\"n_estimators\": [10,20],\n",
        "                  \"learning_rate\": [0.0001, 0.001],\n",
        "                  \"max_depth\": [3,5],\n",
        "                  \"early_stopping_rounds\": [20]}\n",
        "\n",
        "params_xgb_fit ={\"eval_metric\" : \"rmse\",\n",
        "                 \"eval_set\" : eval_set,\n",
        "                 \"verbose\":True}\n",
        "\n",
        "model_xgb_grid = xgb.XGBRegressor(tree_method = 'gpu_hist', enable_categorical=True)\n"
      ],
      "metadata": {
        "id": "ww8HX7gtTy-p"
      },
      "execution_count": 53,
      "outputs": []
    },
    {
      "cell_type": "code",
      "source": [
        "grid_search_xgb, results_grid_search_xgb = search_best_params(model = model_xgb_grid, \n",
        "                                                            param_grid = param_grid_xgb,\n",
        "                                                            metric = \"neg_root_mean_squared_error\",\n",
        "                                                            k = 5,\n",
        "                                                            display_train_score = True,\n",
        "                                                            X = X_train, \n",
        "                                                            y = y_train,\n",
        "                                                            **params_xgb_fit)"
      ],
      "metadata": {
        "colab": {
          "base_uri": "https://localhost:8080/"
        },
        "id": "7HIdiAJ1UrU1",
        "outputId": "87693516-19ab-4c02-8d2e-9403f35fcd23"
      },
      "execution_count": 54,
      "outputs": [
        {
          "output_type": "stream",
          "name": "stdout",
          "text": [
            "[0]\tvalidation_0-rmse:32.88354\tvalidation_1-rmse:32.68201\n",
            "[1]\tvalidation_0-rmse:32.88312\tvalidation_1-rmse:32.68166\n",
            "[2]\tvalidation_0-rmse:32.85274\tvalidation_1-rmse:32.66601\n",
            "[3]\tvalidation_0-rmse:36.39553\tvalidation_1-rmse:36.18077\n",
            "[4]\tvalidation_0-rmse:36.84745\tvalidation_1-rmse:36.60337\n",
            "[5]\tvalidation_0-rmse:37.25741\tvalidation_1-rmse:37.04567\n",
            "[6]\tvalidation_0-rmse:38.05786\tvalidation_1-rmse:37.81717\n",
            "[7]\tvalidation_0-rmse:38.90639\tvalidation_1-rmse:38.63697\n",
            "[8]\tvalidation_0-rmse:41.71261\tvalidation_1-rmse:41.36028\n",
            "[9]\tvalidation_0-rmse:42.69465\tvalidation_1-rmse:42.31392\n"
          ]
        },
        {
          "output_type": "stream",
          "name": "stderr",
          "text": [
            "/usr/local/lib/python3.7/dist-packages/xgboost/sklearn.py:797: UserWarning: `eval_metric` in `fit` method is deprecated for better compatibility with scikit-learn, use `eval_metric` in constructor or`set_params` instead.\n",
            "  UserWarning,\n"
          ]
        },
        {
          "output_type": "stream",
          "name": "stdout",
          "text": [
            "[0]\tvalidation_0-rmse:31.70847\tvalidation_1-rmse:31.47936\n",
            "[1]\tvalidation_0-rmse:32.29540\tvalidation_1-rmse:32.12145\n",
            "[2]\tvalidation_0-rmse:33.11939\tvalidation_1-rmse:32.88844\n",
            "[3]\tvalidation_0-rmse:33.74656\tvalidation_1-rmse:33.49403\n",
            "[4]\tvalidation_0-rmse:35.21361\tvalidation_1-rmse:34.93374\n",
            "[5]\tvalidation_0-rmse:35.35450\tvalidation_1-rmse:35.08601\n",
            "[6]\tvalidation_0-rmse:36.11183\tvalidation_1-rmse:35.84336\n",
            "[7]\tvalidation_0-rmse:36.14306\tvalidation_1-rmse:35.87131\n",
            "[8]\tvalidation_0-rmse:36.27096\tvalidation_1-rmse:35.96817\n",
            "[9]\tvalidation_0-rmse:36.66272\tvalidation_1-rmse:36.35454\n"
          ]
        },
        {
          "output_type": "stream",
          "name": "stderr",
          "text": [
            "/usr/local/lib/python3.7/dist-packages/xgboost/sklearn.py:797: UserWarning: `eval_metric` in `fit` method is deprecated for better compatibility with scikit-learn, use `eval_metric` in constructor or`set_params` instead.\n",
            "  UserWarning,\n"
          ]
        },
        {
          "output_type": "stream",
          "name": "stdout",
          "text": [
            "[0]\tvalidation_0-rmse:33.53437\tvalidation_1-rmse:33.29621\n",
            "[1]\tvalidation_0-rmse:33.53246\tvalidation_1-rmse:33.29411\n",
            "[2]\tvalidation_0-rmse:33.53048\tvalidation_1-rmse:33.29216\n",
            "[3]\tvalidation_0-rmse:33.52856\tvalidation_1-rmse:33.29018\n",
            "[4]\tvalidation_0-rmse:33.52672\tvalidation_1-rmse:33.28823\n",
            "[5]\tvalidation_0-rmse:33.52482\tvalidation_1-rmse:33.28666\n",
            "[6]\tvalidation_0-rmse:33.52319\tvalidation_1-rmse:33.28456\n",
            "[7]\tvalidation_0-rmse:33.52146\tvalidation_1-rmse:33.28247\n",
            "[8]\tvalidation_0-rmse:33.52075\tvalidation_1-rmse:33.28141\n",
            "[9]\tvalidation_0-rmse:33.51893\tvalidation_1-rmse:33.27979\n"
          ]
        },
        {
          "output_type": "stream",
          "name": "stderr",
          "text": [
            "/usr/local/lib/python3.7/dist-packages/xgboost/sklearn.py:797: UserWarning: `eval_metric` in `fit` method is deprecated for better compatibility with scikit-learn, use `eval_metric` in constructor or`set_params` instead.\n",
            "  UserWarning,\n"
          ]
        },
        {
          "output_type": "stream",
          "name": "stdout",
          "text": [
            "[0]\tvalidation_0-rmse:33.88179\tvalidation_1-rmse:33.67168\n",
            "[1]\tvalidation_0-rmse:34.23076\tvalidation_1-rmse:34.02605\n",
            "[2]\tvalidation_0-rmse:34.27963\tvalidation_1-rmse:34.06712\n",
            "[3]\tvalidation_0-rmse:34.62874\tvalidation_1-rmse:34.41473\n",
            "[4]\tvalidation_0-rmse:35.51770\tvalidation_1-rmse:35.26079\n",
            "[5]\tvalidation_0-rmse:36.50086\tvalidation_1-rmse:36.20252\n",
            "[6]\tvalidation_0-rmse:37.57078\tvalidation_1-rmse:37.23261\n",
            "[7]\tvalidation_0-rmse:38.72022\tvalidation_1-rmse:38.34390\n",
            "[8]\tvalidation_0-rmse:39.26720\tvalidation_1-rmse:38.87680\n",
            "[9]\tvalidation_0-rmse:39.84593\tvalidation_1-rmse:39.44079\n"
          ]
        },
        {
          "output_type": "stream",
          "name": "stderr",
          "text": [
            "/usr/local/lib/python3.7/dist-packages/xgboost/sklearn.py:797: UserWarning: `eval_metric` in `fit` method is deprecated for better compatibility with scikit-learn, use `eval_metric` in constructor or`set_params` instead.\n",
            "  UserWarning,\n"
          ]
        },
        {
          "output_type": "stream",
          "name": "stdout",
          "text": [
            "[0]\tvalidation_0-rmse:34.80056\tvalidation_1-rmse:34.53944\n",
            "[1]\tvalidation_0-rmse:34.81200\tvalidation_1-rmse:34.54049\n",
            "[2]\tvalidation_0-rmse:35.42506\tvalidation_1-rmse:35.15226\n",
            "[3]\tvalidation_0-rmse:35.61259\tvalidation_1-rmse:35.34107\n",
            "[4]\tvalidation_0-rmse:36.16189\tvalidation_1-rmse:35.99132\n",
            "[5]\tvalidation_0-rmse:36.75705\tvalidation_1-rmse:36.58293\n",
            "[6]\tvalidation_0-rmse:38.32596\tvalidation_1-rmse:38.15066\n",
            "[7]\tvalidation_0-rmse:40.78986\tvalidation_1-rmse:40.60006\n",
            "[8]\tvalidation_0-rmse:40.92319\tvalidation_1-rmse:40.74638\n",
            "[9]\tvalidation_0-rmse:45.06665\tvalidation_1-rmse:44.88207\n"
          ]
        },
        {
          "output_type": "stream",
          "name": "stderr",
          "text": [
            "/usr/local/lib/python3.7/dist-packages/xgboost/sklearn.py:797: UserWarning: `eval_metric` in `fit` method is deprecated for better compatibility with scikit-learn, use `eval_metric` in constructor or`set_params` instead.\n",
            "  UserWarning,\n"
          ]
        },
        {
          "output_type": "stream",
          "name": "stdout",
          "text": [
            "[0]\tvalidation_0-rmse:32.88354\tvalidation_1-rmse:32.68201\n",
            "[1]\tvalidation_0-rmse:32.88312\tvalidation_1-rmse:32.68166\n",
            "[2]\tvalidation_0-rmse:32.85274\tvalidation_1-rmse:32.66601\n",
            "[3]\tvalidation_0-rmse:36.39553\tvalidation_1-rmse:36.18077\n",
            "[4]\tvalidation_0-rmse:36.84745\tvalidation_1-rmse:36.60337\n",
            "[5]\tvalidation_0-rmse:37.25741\tvalidation_1-rmse:37.04567\n",
            "[6]\tvalidation_0-rmse:38.05786\tvalidation_1-rmse:37.81717\n",
            "[7]\tvalidation_0-rmse:38.90639\tvalidation_1-rmse:38.63697\n",
            "[8]\tvalidation_0-rmse:41.71261\tvalidation_1-rmse:41.36028\n",
            "[9]\tvalidation_0-rmse:42.69465\tvalidation_1-rmse:42.31392\n",
            "[10]\tvalidation_0-rmse:43.18774\tvalidation_1-rmse:42.79584\n",
            "[11]\tvalidation_0-rmse:47.49195\tvalidation_1-rmse:47.10097\n",
            "[12]\tvalidation_0-rmse:47.94434\tvalidation_1-rmse:47.54311\n",
            "[13]\tvalidation_0-rmse:48.40183\tvalidation_1-rmse:47.99051\n",
            "[14]\tvalidation_0-rmse:48.86428\tvalidation_1-rmse:48.44301\n",
            "[15]\tvalidation_0-rmse:49.33155\tvalidation_1-rmse:48.90049\n",
            "[16]\tvalidation_0-rmse:49.80350\tvalidation_1-rmse:49.36279\n",
            "[17]\tvalidation_0-rmse:50.31576\tvalidation_1-rmse:49.86689\n"
          ]
        },
        {
          "output_type": "stream",
          "name": "stderr",
          "text": [
            "/usr/local/lib/python3.7/dist-packages/xgboost/sklearn.py:797: UserWarning: `eval_metric` in `fit` method is deprecated for better compatibility with scikit-learn, use `eval_metric` in constructor or`set_params` instead.\n",
            "  UserWarning,\n"
          ]
        },
        {
          "output_type": "stream",
          "name": "stdout",
          "text": [
            "[18]\tvalidation_0-rmse:50.85412\tvalidation_1-rmse:50.39345\n",
            "[19]\tvalidation_0-rmse:52.03980\tvalidation_1-rmse:51.55386\n",
            "[0]\tvalidation_0-rmse:31.70847\tvalidation_1-rmse:31.47936\n",
            "[1]\tvalidation_0-rmse:32.29540\tvalidation_1-rmse:32.12145\n",
            "[2]\tvalidation_0-rmse:33.11939\tvalidation_1-rmse:32.88844\n",
            "[3]\tvalidation_0-rmse:33.74656\tvalidation_1-rmse:33.49403\n",
            "[4]\tvalidation_0-rmse:35.21361\tvalidation_1-rmse:34.93374\n",
            "[5]\tvalidation_0-rmse:35.35450\tvalidation_1-rmse:35.08601\n",
            "[6]\tvalidation_0-rmse:36.11183\tvalidation_1-rmse:35.84336\n",
            "[7]\tvalidation_0-rmse:36.14306\tvalidation_1-rmse:35.87131\n",
            "[8]\tvalidation_0-rmse:36.27096\tvalidation_1-rmse:35.96817\n",
            "[9]\tvalidation_0-rmse:36.66272\tvalidation_1-rmse:36.35454\n",
            "[10]\tvalidation_0-rmse:36.87229\tvalidation_1-rmse:36.54205\n",
            "[11]\tvalidation_0-rmse:37.09012\tvalidation_1-rmse:36.73909\n",
            "[12]\tvalidation_0-rmse:37.89221\tvalidation_1-rmse:37.53171\n",
            "[13]\tvalidation_0-rmse:38.73401\tvalidation_1-rmse:38.36465\n",
            "[14]\tvalidation_0-rmse:39.61295\tvalidation_1-rmse:39.23530\n",
            "[15]\tvalidation_0-rmse:40.52656\tvalidation_1-rmse:40.14117\n",
            "[16]\tvalidation_0-rmse:41.47253\tvalidation_1-rmse:41.07990\n",
            "[17]\tvalidation_0-rmse:42.44866\tvalidation_1-rmse:42.04924\n"
          ]
        },
        {
          "output_type": "stream",
          "name": "stderr",
          "text": [
            "/usr/local/lib/python3.7/dist-packages/xgboost/sklearn.py:797: UserWarning: `eval_metric` in `fit` method is deprecated for better compatibility with scikit-learn, use `eval_metric` in constructor or`set_params` instead.\n",
            "  UserWarning,\n"
          ]
        },
        {
          "output_type": "stream",
          "name": "stdout",
          "text": [
            "[18]\tvalidation_0-rmse:43.45287\tvalidation_1-rmse:43.04709\n",
            "[19]\tvalidation_0-rmse:44.48324\tvalidation_1-rmse:44.07149\n",
            "[0]\tvalidation_0-rmse:33.53437\tvalidation_1-rmse:33.29621\n",
            "[1]\tvalidation_0-rmse:33.53246\tvalidation_1-rmse:33.29411\n",
            "[2]\tvalidation_0-rmse:33.53048\tvalidation_1-rmse:33.29216\n",
            "[3]\tvalidation_0-rmse:33.52856\tvalidation_1-rmse:33.29018\n",
            "[4]\tvalidation_0-rmse:33.52672\tvalidation_1-rmse:33.28823\n",
            "[5]\tvalidation_0-rmse:33.52482\tvalidation_1-rmse:33.28666\n",
            "[6]\tvalidation_0-rmse:33.52319\tvalidation_1-rmse:33.28456\n",
            "[7]\tvalidation_0-rmse:33.52146\tvalidation_1-rmse:33.28247\n",
            "[8]\tvalidation_0-rmse:33.52075\tvalidation_1-rmse:33.28141\n",
            "[9]\tvalidation_0-rmse:33.51893\tvalidation_1-rmse:33.27979\n",
            "[10]\tvalidation_0-rmse:33.51709\tvalidation_1-rmse:33.27799\n",
            "[11]\tvalidation_0-rmse:33.51525\tvalidation_1-rmse:33.27612\n",
            "[12]\tvalidation_0-rmse:33.51330\tvalidation_1-rmse:33.27436\n",
            "[13]\tvalidation_0-rmse:34.04709\tvalidation_1-rmse:33.82483\n",
            "[14]\tvalidation_0-rmse:35.45264\tvalidation_1-rmse:35.22516\n",
            "[15]\tvalidation_0-rmse:36.09995\tvalidation_1-rmse:35.82537\n",
            "[16]\tvalidation_0-rmse:37.68103\tvalidation_1-rmse:37.40048\n",
            "[17]\tvalidation_0-rmse:37.86595\tvalidation_1-rmse:37.58379\n",
            "[18]\tvalidation_0-rmse:38.06004\tvalidation_1-rmse:37.77589\n",
            "[19]\tvalidation_0-rmse:38.26318\tvalidation_1-rmse:37.97665\n"
          ]
        },
        {
          "output_type": "stream",
          "name": "stderr",
          "text": [
            "/usr/local/lib/python3.7/dist-packages/xgboost/sklearn.py:797: UserWarning: `eval_metric` in `fit` method is deprecated for better compatibility with scikit-learn, use `eval_metric` in constructor or`set_params` instead.\n",
            "  UserWarning,\n"
          ]
        },
        {
          "output_type": "stream",
          "name": "stdout",
          "text": [
            "[0]\tvalidation_0-rmse:33.88179\tvalidation_1-rmse:33.67168\n",
            "[1]\tvalidation_0-rmse:34.23076\tvalidation_1-rmse:34.02605\n",
            "[2]\tvalidation_0-rmse:34.27963\tvalidation_1-rmse:34.06712\n",
            "[3]\tvalidation_0-rmse:34.62874\tvalidation_1-rmse:34.41473\n",
            "[4]\tvalidation_0-rmse:35.51770\tvalidation_1-rmse:35.26079\n",
            "[5]\tvalidation_0-rmse:36.50086\tvalidation_1-rmse:36.20252\n",
            "[6]\tvalidation_0-rmse:37.57078\tvalidation_1-rmse:37.23261\n",
            "[7]\tvalidation_0-rmse:38.72022\tvalidation_1-rmse:38.34390\n",
            "[8]\tvalidation_0-rmse:39.26720\tvalidation_1-rmse:38.87680\n",
            "[9]\tvalidation_0-rmse:39.84593\tvalidation_1-rmse:39.44079\n",
            "[10]\tvalidation_0-rmse:41.09397\tvalidation_1-rmse:40.65124\n",
            "[11]\tvalidation_0-rmse:41.71407\tvalidation_1-rmse:41.25552\n",
            "[12]\tvalidation_0-rmse:43.03425\tvalidation_1-rmse:42.53941\n",
            "[13]\tvalidation_0-rmse:43.69042\tvalidation_1-rmse:43.17884\n",
            "[14]\tvalidation_0-rmse:45.07316\tvalidation_1-rmse:44.52662\n",
            "[15]\tvalidation_0-rmse:45.76071\tvalidation_1-rmse:45.19666\n",
            "[16]\tvalidation_0-rmse:47.19769\tvalidation_1-rmse:46.59995\n",
            "[17]\tvalidation_0-rmse:47.91253\tvalidation_1-rmse:47.29663\n",
            "[18]\tvalidation_0-rmse:49.39653\tvalidation_1-rmse:48.74819\n",
            "[19]\tvalidation_0-rmse:49.76325\tvalidation_1-rmse:49.10896\n"
          ]
        },
        {
          "output_type": "stream",
          "name": "stderr",
          "text": [
            "/usr/local/lib/python3.7/dist-packages/xgboost/sklearn.py:797: UserWarning: `eval_metric` in `fit` method is deprecated for better compatibility with scikit-learn, use `eval_metric` in constructor or`set_params` instead.\n",
            "  UserWarning,\n"
          ]
        },
        {
          "output_type": "stream",
          "name": "stdout",
          "text": [
            "[0]\tvalidation_0-rmse:34.80056\tvalidation_1-rmse:34.53944\n",
            "[1]\tvalidation_0-rmse:34.81200\tvalidation_1-rmse:34.54049\n",
            "[2]\tvalidation_0-rmse:35.42506\tvalidation_1-rmse:35.15226\n",
            "[3]\tvalidation_0-rmse:35.61259\tvalidation_1-rmse:35.34107\n",
            "[4]\tvalidation_0-rmse:36.16189\tvalidation_1-rmse:35.99132\n",
            "[5]\tvalidation_0-rmse:36.75705\tvalidation_1-rmse:36.58293\n",
            "[6]\tvalidation_0-rmse:38.32596\tvalidation_1-rmse:38.15066\n",
            "[7]\tvalidation_0-rmse:40.78986\tvalidation_1-rmse:40.60006\n",
            "[8]\tvalidation_0-rmse:40.92319\tvalidation_1-rmse:40.74638\n",
            "[9]\tvalidation_0-rmse:45.06665\tvalidation_1-rmse:44.88207\n",
            "[10]\tvalidation_0-rmse:46.87815\tvalidation_1-rmse:46.70756\n",
            "[11]\tvalidation_0-rmse:47.03030\tvalidation_1-rmse:46.85674\n",
            "[12]\tvalidation_0-rmse:48.84882\tvalidation_1-rmse:48.65988\n",
            "[13]\tvalidation_0-rmse:50.07907\tvalidation_1-rmse:49.86291\n",
            "[14]\tvalidation_0-rmse:52.42738\tvalidation_1-rmse:52.20960\n",
            "[15]\tvalidation_0-rmse:53.19444\tvalidation_1-rmse:52.97306\n",
            "[16]\tvalidation_0-rmse:53.50471\tvalidation_1-rmse:53.27466\n",
            "[17]\tvalidation_0-rmse:53.81807\tvalidation_1-rmse:53.57936\n",
            "[18]\tvalidation_0-rmse:54.13448\tvalidation_1-rmse:53.88713\n",
            "[19]\tvalidation_0-rmse:54.45387\tvalidation_1-rmse:54.19791\n"
          ]
        },
        {
          "output_type": "stream",
          "name": "stderr",
          "text": [
            "/usr/local/lib/python3.7/dist-packages/xgboost/sklearn.py:797: UserWarning: `eval_metric` in `fit` method is deprecated for better compatibility with scikit-learn, use `eval_metric` in constructor or`set_params` instead.\n",
            "  UserWarning,\n"
          ]
        },
        {
          "output_type": "stream",
          "name": "stdout",
          "text": [
            "[0]\tvalidation_0-rmse:33.23998\tvalidation_1-rmse:33.04467\n",
            "[1]\tvalidation_0-rmse:33.63097\tvalidation_1-rmse:33.44664\n",
            "[2]\tvalidation_0-rmse:33.69726\tvalidation_1-rmse:33.50939\n",
            "[3]\tvalidation_0-rmse:33.69615\tvalidation_1-rmse:33.53203\n",
            "[4]\tvalidation_0-rmse:35.44763\tvalidation_1-rmse:35.23550\n",
            "[5]\tvalidation_0-rmse:35.87150\tvalidation_1-rmse:35.64001\n",
            "[6]\tvalidation_0-rmse:36.94255\tvalidation_1-rmse:36.73934\n",
            "[7]\tvalidation_0-rmse:37.96017\tvalidation_1-rmse:37.77054\n",
            "[8]\tvalidation_0-rmse:38.64510\tvalidation_1-rmse:38.43244\n",
            "[9]\tvalidation_0-rmse:41.24487\tvalidation_1-rmse:40.93136\n"
          ]
        },
        {
          "output_type": "stream",
          "name": "stderr",
          "text": [
            "/usr/local/lib/python3.7/dist-packages/xgboost/sklearn.py:797: UserWarning: `eval_metric` in `fit` method is deprecated for better compatibility with scikit-learn, use `eval_metric` in constructor or`set_params` instead.\n",
            "  UserWarning,\n"
          ]
        },
        {
          "output_type": "stream",
          "name": "stdout",
          "text": [
            "[0]\tvalidation_0-rmse:31.70994\tvalidation_1-rmse:31.48028\n",
            "[1]\tvalidation_0-rmse:32.83592\tvalidation_1-rmse:32.64042\n",
            "[2]\tvalidation_0-rmse:33.12960\tvalidation_1-rmse:32.94448\n",
            "[3]\tvalidation_0-rmse:35.71925\tvalidation_1-rmse:35.49939\n",
            "[4]\tvalidation_0-rmse:38.68259\tvalidation_1-rmse:38.42980\n",
            "[5]\tvalidation_0-rmse:41.94048\tvalidation_1-rmse:41.65655\n",
            "[6]\tvalidation_0-rmse:45.42960\tvalidation_1-rmse:45.11609\n",
            "[7]\tvalidation_0-rmse:49.10066\tvalidation_1-rmse:48.75890\n",
            "[8]\tvalidation_0-rmse:52.91583\tvalidation_1-rmse:52.54688\n",
            "[9]\tvalidation_0-rmse:56.84609\tvalidation_1-rmse:56.45081\n"
          ]
        },
        {
          "output_type": "stream",
          "name": "stderr",
          "text": [
            "/usr/local/lib/python3.7/dist-packages/xgboost/sklearn.py:797: UserWarning: `eval_metric` in `fit` method is deprecated for better compatibility with scikit-learn, use `eval_metric` in constructor or`set_params` instead.\n",
            "  UserWarning,\n"
          ]
        },
        {
          "output_type": "stream",
          "name": "stdout",
          "text": [
            "[0]\tvalidation_0-rmse:33.53440\tvalidation_1-rmse:33.29621\n",
            "[1]\tvalidation_0-rmse:33.53271\tvalidation_1-rmse:33.29493\n",
            "[2]\tvalidation_0-rmse:33.53083\tvalidation_1-rmse:33.29292\n",
            "[3]\tvalidation_0-rmse:33.89045\tvalidation_1-rmse:33.63528\n",
            "[4]\tvalidation_0-rmse:34.81043\tvalidation_1-rmse:34.53862\n",
            "[5]\tvalidation_0-rmse:36.31487\tvalidation_1-rmse:36.07850\n",
            "[6]\tvalidation_0-rmse:37.56488\tvalidation_1-rmse:37.36330\n",
            "[7]\tvalidation_0-rmse:38.41974\tvalidation_1-rmse:38.19113\n",
            "[8]\tvalidation_0-rmse:38.75724\tvalidation_1-rmse:38.55693\n",
            "[9]\tvalidation_0-rmse:40.14612\tvalidation_1-rmse:39.92015\n"
          ]
        },
        {
          "output_type": "stream",
          "name": "stderr",
          "text": [
            "/usr/local/lib/python3.7/dist-packages/xgboost/sklearn.py:797: UserWarning: `eval_metric` in `fit` method is deprecated for better compatibility with scikit-learn, use `eval_metric` in constructor or`set_params` instead.\n",
            "  UserWarning,\n"
          ]
        },
        {
          "output_type": "stream",
          "name": "stdout",
          "text": [
            "[0]\tvalidation_0-rmse:34.71819\tvalidation_1-rmse:34.49714\n",
            "[1]\tvalidation_0-rmse:35.30432\tvalidation_1-rmse:35.09028\n",
            "[2]\tvalidation_0-rmse:35.48008\tvalidation_1-rmse:35.28822\n",
            "[3]\tvalidation_0-rmse:36.67044\tvalidation_1-rmse:36.53676\n",
            "[4]\tvalidation_0-rmse:36.66424\tvalidation_1-rmse:36.53286\n",
            "[5]\tvalidation_0-rmse:37.89792\tvalidation_1-rmse:37.80133\n",
            "[6]\tvalidation_0-rmse:39.30053\tvalidation_1-rmse:39.24104\n",
            "[7]\tvalidation_0-rmse:39.37764\tvalidation_1-rmse:39.33543\n",
            "[8]\tvalidation_0-rmse:40.88203\tvalidation_1-rmse:40.80261\n",
            "[9]\tvalidation_0-rmse:42.49712\tvalidation_1-rmse:42.37975\n"
          ]
        },
        {
          "output_type": "stream",
          "name": "stderr",
          "text": [
            "/usr/local/lib/python3.7/dist-packages/xgboost/sklearn.py:797: UserWarning: `eval_metric` in `fit` method is deprecated for better compatibility with scikit-learn, use `eval_metric` in constructor or`set_params` instead.\n",
            "  UserWarning,\n"
          ]
        },
        {
          "output_type": "stream",
          "name": "stdout",
          "text": [
            "[0]\tvalidation_0-rmse:34.80071\tvalidation_1-rmse:34.53960\n",
            "[1]\tvalidation_0-rmse:35.42607\tvalidation_1-rmse:35.14556\n",
            "[2]\tvalidation_0-rmse:35.65753\tvalidation_1-rmse:35.37247\n",
            "[3]\tvalidation_0-rmse:36.27662\tvalidation_1-rmse:36.00582\n",
            "[4]\tvalidation_0-rmse:36.16959\tvalidation_1-rmse:35.94701\n",
            "[5]\tvalidation_0-rmse:38.65233\tvalidation_1-rmse:38.36888\n",
            "[6]\tvalidation_0-rmse:38.72702\tvalidation_1-rmse:38.45444\n",
            "[7]\tvalidation_0-rmse:38.80179\tvalidation_1-rmse:38.54971\n",
            "[8]\tvalidation_0-rmse:40.38819\tvalidation_1-rmse:40.11309\n",
            "[9]\tvalidation_0-rmse:40.93788\tvalidation_1-rmse:40.65091\n"
          ]
        },
        {
          "output_type": "stream",
          "name": "stderr",
          "text": [
            "/usr/local/lib/python3.7/dist-packages/xgboost/sklearn.py:797: UserWarning: `eval_metric` in `fit` method is deprecated for better compatibility with scikit-learn, use `eval_metric` in constructor or`set_params` instead.\n",
            "  UserWarning,\n"
          ]
        },
        {
          "output_type": "stream",
          "name": "stdout",
          "text": [
            "[0]\tvalidation_0-rmse:33.23998\tvalidation_1-rmse:33.04467\n",
            "[1]\tvalidation_0-rmse:33.63097\tvalidation_1-rmse:33.44664\n",
            "[2]\tvalidation_0-rmse:33.69726\tvalidation_1-rmse:33.50939\n",
            "[3]\tvalidation_0-rmse:33.69615\tvalidation_1-rmse:33.53203\n",
            "[4]\tvalidation_0-rmse:35.44763\tvalidation_1-rmse:35.23550\n",
            "[5]\tvalidation_0-rmse:35.87150\tvalidation_1-rmse:35.64001\n",
            "[6]\tvalidation_0-rmse:36.94255\tvalidation_1-rmse:36.73934\n",
            "[7]\tvalidation_0-rmse:37.96017\tvalidation_1-rmse:37.77054\n",
            "[8]\tvalidation_0-rmse:38.64510\tvalidation_1-rmse:38.43244\n",
            "[9]\tvalidation_0-rmse:41.24487\tvalidation_1-rmse:40.93136\n",
            "[10]\tvalidation_0-rmse:42.73014\tvalidation_1-rmse:42.42103\n",
            "[11]\tvalidation_0-rmse:44.07781\tvalidation_1-rmse:43.80823\n",
            "[12]\tvalidation_0-rmse:44.06476\tvalidation_1-rmse:43.79251\n",
            "[13]\tvalidation_0-rmse:44.13665\tvalidation_1-rmse:43.86557\n"
          ]
        },
        {
          "output_type": "stream",
          "name": "stderr",
          "text": [
            "/usr/local/lib/python3.7/dist-packages/xgboost/sklearn.py:797: UserWarning: `eval_metric` in `fit` method is deprecated for better compatibility with scikit-learn, use `eval_metric` in constructor or`set_params` instead.\n",
            "  UserWarning,\n"
          ]
        },
        {
          "output_type": "stream",
          "name": "stdout",
          "text": [
            "[14]\tvalidation_0-rmse:44.20914\tvalidation_1-rmse:43.93925\n",
            "[15]\tvalidation_0-rmse:44.28224\tvalidation_1-rmse:44.01353\n",
            "[16]\tvalidation_0-rmse:44.35593\tvalidation_1-rmse:44.08842\n",
            "[17]\tvalidation_0-rmse:43.93310\tvalidation_1-rmse:43.67179\n",
            "[18]\tvalidation_0-rmse:44.44203\tvalidation_1-rmse:44.20707\n",
            "[19]\tvalidation_0-rmse:44.51811\tvalidation_1-rmse:44.26902\n",
            "[0]\tvalidation_0-rmse:31.70994\tvalidation_1-rmse:31.48028\n",
            "[1]\tvalidation_0-rmse:32.83592\tvalidation_1-rmse:32.64042\n",
            "[2]\tvalidation_0-rmse:33.12960\tvalidation_1-rmse:32.94448\n",
            "[3]\tvalidation_0-rmse:35.71925\tvalidation_1-rmse:35.49939\n",
            "[4]\tvalidation_0-rmse:38.68259\tvalidation_1-rmse:38.42980\n",
            "[5]\tvalidation_0-rmse:41.94048\tvalidation_1-rmse:41.65655\n",
            "[6]\tvalidation_0-rmse:45.42960\tvalidation_1-rmse:45.11609\n",
            "[7]\tvalidation_0-rmse:49.10066\tvalidation_1-rmse:48.75890\n",
            "[8]\tvalidation_0-rmse:52.91583\tvalidation_1-rmse:52.54688\n",
            "[9]\tvalidation_0-rmse:56.84609\tvalidation_1-rmse:56.45081\n",
            "[10]\tvalidation_0-rmse:61.01608\tvalidation_1-rmse:60.63206\n",
            "[11]\tvalidation_0-rmse:65.28323\tvalidation_1-rmse:64.91007\n",
            "[12]\tvalidation_0-rmse:69.62969\tvalidation_1-rmse:69.26692\n",
            "[13]\tvalidation_0-rmse:74.04148\tvalidation_1-rmse:73.68861\n",
            "[14]\tvalidation_0-rmse:78.50758\tvalidation_1-rmse:78.16415\n"
          ]
        },
        {
          "output_type": "stream",
          "name": "stderr",
          "text": [
            "/usr/local/lib/python3.7/dist-packages/xgboost/sklearn.py:797: UserWarning: `eval_metric` in `fit` method is deprecated for better compatibility with scikit-learn, use `eval_metric` in constructor or`set_params` instead.\n",
            "  UserWarning,\n"
          ]
        },
        {
          "output_type": "stream",
          "name": "stdout",
          "text": [
            "[15]\tvalidation_0-rmse:83.01924\tvalidation_1-rmse:82.68484\n",
            "[16]\tvalidation_0-rmse:87.56940\tvalidation_1-rmse:87.24356\n",
            "[17]\tvalidation_0-rmse:92.15237\tvalidation_1-rmse:91.83469\n",
            "[18]\tvalidation_0-rmse:96.76347\tvalidation_1-rmse:96.45360\n",
            "[19]\tvalidation_0-rmse:101.39888\tvalidation_1-rmse:101.09648\n",
            "[0]\tvalidation_0-rmse:33.53440\tvalidation_1-rmse:33.29621\n",
            "[1]\tvalidation_0-rmse:33.53271\tvalidation_1-rmse:33.29493\n",
            "[2]\tvalidation_0-rmse:33.53083\tvalidation_1-rmse:33.29292\n",
            "[3]\tvalidation_0-rmse:33.89045\tvalidation_1-rmse:33.63528\n",
            "[4]\tvalidation_0-rmse:34.81043\tvalidation_1-rmse:34.53862\n",
            "[5]\tvalidation_0-rmse:36.31487\tvalidation_1-rmse:36.07850\n",
            "[6]\tvalidation_0-rmse:37.56488\tvalidation_1-rmse:37.36330\n",
            "[7]\tvalidation_0-rmse:38.41974\tvalidation_1-rmse:38.19113\n",
            "[8]\tvalidation_0-rmse:38.75724\tvalidation_1-rmse:38.55693\n",
            "[9]\tvalidation_0-rmse:40.14612\tvalidation_1-rmse:39.92015\n",
            "[10]\tvalidation_0-rmse:41.68684\tvalidation_1-rmse:41.43494\n",
            "[11]\tvalidation_0-rmse:43.36323\tvalidation_1-rmse:43.08533\n",
            "[12]\tvalidation_0-rmse:45.16018\tvalidation_1-rmse:44.85636\n",
            "[13]\tvalidation_0-rmse:47.06389\tvalidation_1-rmse:46.73430\n",
            "[14]\tvalidation_0-rmse:49.06192\tvalidation_1-rmse:48.70681\n",
            "[15]\tvalidation_0-rmse:51.14324\tvalidation_1-rmse:50.76285\n"
          ]
        },
        {
          "output_type": "stream",
          "name": "stderr",
          "text": [
            "/usr/local/lib/python3.7/dist-packages/xgboost/sklearn.py:797: UserWarning: `eval_metric` in `fit` method is deprecated for better compatibility with scikit-learn, use `eval_metric` in constructor or`set_params` instead.\n",
            "  UserWarning,\n"
          ]
        },
        {
          "output_type": "stream",
          "name": "stdout",
          "text": [
            "[16]\tvalidation_0-rmse:53.29807\tvalidation_1-rmse:52.89269\n",
            "[17]\tvalidation_0-rmse:55.51787\tvalidation_1-rmse:55.08776\n",
            "[18]\tvalidation_0-rmse:57.79515\tvalidation_1-rmse:57.34059\n",
            "[19]\tvalidation_0-rmse:60.12338\tvalidation_1-rmse:59.64462\n",
            "[0]\tvalidation_0-rmse:34.71819\tvalidation_1-rmse:34.49714\n",
            "[1]\tvalidation_0-rmse:35.30432\tvalidation_1-rmse:35.09028\n",
            "[2]\tvalidation_0-rmse:35.48008\tvalidation_1-rmse:35.28822\n",
            "[3]\tvalidation_0-rmse:36.67044\tvalidation_1-rmse:36.53676\n",
            "[4]\tvalidation_0-rmse:36.66424\tvalidation_1-rmse:36.53286\n",
            "[5]\tvalidation_0-rmse:37.89792\tvalidation_1-rmse:37.80133\n",
            "[6]\tvalidation_0-rmse:39.30053\tvalidation_1-rmse:39.24104\n",
            "[7]\tvalidation_0-rmse:39.37764\tvalidation_1-rmse:39.33543\n",
            "[8]\tvalidation_0-rmse:40.88203\tvalidation_1-rmse:40.80261\n",
            "[9]\tvalidation_0-rmse:42.49712\tvalidation_1-rmse:42.37975\n",
            "[10]\tvalidation_0-rmse:44.21076\tvalidation_1-rmse:44.05504\n",
            "[11]\tvalidation_0-rmse:45.98383\tvalidation_1-rmse:45.78351\n",
            "[12]\tvalidation_0-rmse:47.83994\tvalidation_1-rmse:47.59592\n",
            "[13]\tvalidation_0-rmse:49.88429\tvalidation_1-rmse:49.65867\n",
            "[14]\tvalidation_0-rmse:50.76253\tvalidation_1-rmse:50.51632\n",
            "[15]\tvalidation_0-rmse:51.66418\tvalidation_1-rmse:51.39756\n",
            "[16]\tvalidation_0-rmse:52.58804\tvalidation_1-rmse:52.30118\n"
          ]
        },
        {
          "output_type": "stream",
          "name": "stderr",
          "text": [
            "/usr/local/lib/python3.7/dist-packages/xgboost/sklearn.py:797: UserWarning: `eval_metric` in `fit` method is deprecated for better compatibility with scikit-learn, use `eval_metric` in constructor or`set_params` instead.\n",
            "  UserWarning,\n"
          ]
        },
        {
          "output_type": "stream",
          "name": "stdout",
          "text": [
            "[17]\tvalidation_0-rmse:53.53296\tvalidation_1-rmse:53.22606\n",
            "[18]\tvalidation_0-rmse:54.49785\tvalidation_1-rmse:54.17110\n",
            "[19]\tvalidation_0-rmse:55.48167\tvalidation_1-rmse:55.13528\n",
            "[0]\tvalidation_0-rmse:34.80071\tvalidation_1-rmse:34.53960\n",
            "[1]\tvalidation_0-rmse:35.42607\tvalidation_1-rmse:35.14556\n",
            "[2]\tvalidation_0-rmse:35.65753\tvalidation_1-rmse:35.37247\n",
            "[3]\tvalidation_0-rmse:36.27662\tvalidation_1-rmse:36.00582\n",
            "[4]\tvalidation_0-rmse:36.16959\tvalidation_1-rmse:35.94701\n",
            "[5]\tvalidation_0-rmse:38.65233\tvalidation_1-rmse:38.36888\n",
            "[6]\tvalidation_0-rmse:38.72702\tvalidation_1-rmse:38.45444\n",
            "[7]\tvalidation_0-rmse:38.80179\tvalidation_1-rmse:38.54971\n",
            "[8]\tvalidation_0-rmse:40.38819\tvalidation_1-rmse:40.11309\n",
            "[9]\tvalidation_0-rmse:40.93788\tvalidation_1-rmse:40.65091\n",
            "[10]\tvalidation_0-rmse:42.79542\tvalidation_1-rmse:42.50943\n",
            "[11]\tvalidation_0-rmse:44.20568\tvalidation_1-rmse:43.99991\n",
            "[12]\tvalidation_0-rmse:46.72749\tvalidation_1-rmse:46.45226\n",
            "[13]\tvalidation_0-rmse:47.27020\tvalidation_1-rmse:47.00254\n",
            "[14]\tvalidation_0-rmse:50.14859\tvalidation_1-rmse:49.89506\n"
          ]
        },
        {
          "output_type": "stream",
          "name": "stderr",
          "text": [
            "/usr/local/lib/python3.7/dist-packages/xgboost/sklearn.py:797: UserWarning: `eval_metric` in `fit` method is deprecated for better compatibility with scikit-learn, use `eval_metric` in constructor or`set_params` instead.\n",
            "  UserWarning,\n"
          ]
        },
        {
          "output_type": "stream",
          "name": "stdout",
          "text": [
            "[15]\tvalidation_0-rmse:54.56952\tvalidation_1-rmse:54.30858\n",
            "[16]\tvalidation_0-rmse:56.13298\tvalidation_1-rmse:55.86820\n",
            "[17]\tvalidation_0-rmse:56.63798\tvalidation_1-rmse:56.38230\n",
            "[18]\tvalidation_0-rmse:56.78265\tvalidation_1-rmse:56.55417\n",
            "[19]\tvalidation_0-rmse:56.89522\tvalidation_1-rmse:56.66802\n",
            "[0]\tvalidation_0-rmse:40.15118\tvalidation_1-rmse:40.26315\n",
            "[1]\tvalidation_0-rmse:40.27415\tvalidation_1-rmse:40.39106\n",
            "[2]\tvalidation_0-rmse:41.54675\tvalidation_1-rmse:41.67911\n",
            "[3]\tvalidation_0-rmse:41.82803\tvalidation_1-rmse:41.95724\n",
            "[4]\tvalidation_0-rmse:42.80364\tvalidation_1-rmse:42.96196\n",
            "[5]\tvalidation_0-rmse:43.07082\tvalidation_1-rmse:43.23725\n",
            "[6]\tvalidation_0-rmse:43.38401\tvalidation_1-rmse:43.53319\n",
            "[7]\tvalidation_0-rmse:44.79245\tvalidation_1-rmse:44.97847\n",
            "[8]\tvalidation_0-rmse:46.89579\tvalidation_1-rmse:47.09986\n",
            "[9]\tvalidation_0-rmse:48.44523\tvalidation_1-rmse:48.66294\n"
          ]
        },
        {
          "output_type": "stream",
          "name": "stderr",
          "text": [
            "/usr/local/lib/python3.7/dist-packages/xgboost/sklearn.py:797: UserWarning: `eval_metric` in `fit` method is deprecated for better compatibility with scikit-learn, use `eval_metric` in constructor or`set_params` instead.\n",
            "  UserWarning,\n"
          ]
        },
        {
          "output_type": "stream",
          "name": "stdout",
          "text": [
            "[0]\tvalidation_0-rmse:36.18911\tvalidation_1-rmse:36.29907\n",
            "[1]\tvalidation_0-rmse:44.71391\tvalidation_1-rmse:44.76706\n",
            "[2]\tvalidation_0-rmse:79.79169\tvalidation_1-rmse:79.05510\n",
            "[3]\tvalidation_0-rmse:82.88605\tvalidation_1-rmse:82.16475\n",
            "[4]\tvalidation_0-rmse:89.50909\tvalidation_1-rmse:88.94034\n",
            "[5]\tvalidation_0-rmse:102.56254\tvalidation_1-rmse:101.59730\n",
            "[6]\tvalidation_0-rmse:111.98292\tvalidation_1-rmse:111.14800\n",
            "[7]\tvalidation_0-rmse:111.88894\tvalidation_1-rmse:111.05466\n",
            "[8]\tvalidation_0-rmse:111.79501\tvalidation_1-rmse:110.96141\n",
            "[9]\tvalidation_0-rmse:111.70124\tvalidation_1-rmse:110.86831\n"
          ]
        },
        {
          "output_type": "stream",
          "name": "stderr",
          "text": [
            "/usr/local/lib/python3.7/dist-packages/xgboost/sklearn.py:797: UserWarning: `eval_metric` in `fit` method is deprecated for better compatibility with scikit-learn, use `eval_metric` in constructor or`set_params` instead.\n",
            "  UserWarning,\n"
          ]
        },
        {
          "output_type": "stream",
          "name": "stdout",
          "text": [
            "[0]\tvalidation_0-rmse:33.53217\tvalidation_1-rmse:33.27734\n",
            "[1]\tvalidation_0-rmse:38.32231\tvalidation_1-rmse:37.98264\n",
            "[2]\tvalidation_0-rmse:62.70669\tvalidation_1-rmse:61.96432\n",
            "[3]\tvalidation_0-rmse:82.55320\tvalidation_1-rmse:81.85748\n",
            "[4]\tvalidation_0-rmse:104.44709\tvalidation_1-rmse:103.77494\n",
            "[5]\tvalidation_0-rmse:127.33664\tvalidation_1-rmse:126.67027\n",
            "[6]\tvalidation_0-rmse:125.73887\tvalidation_1-rmse:124.66546\n",
            "[7]\tvalidation_0-rmse:125.73713\tvalidation_1-rmse:124.66852\n",
            "[8]\tvalidation_0-rmse:125.73205\tvalidation_1-rmse:124.67343\n",
            "[9]\tvalidation_0-rmse:120.24123\tvalidation_1-rmse:119.15239\n"
          ]
        },
        {
          "output_type": "stream",
          "name": "stderr",
          "text": [
            "/usr/local/lib/python3.7/dist-packages/xgboost/sklearn.py:797: UserWarning: `eval_metric` in `fit` method is deprecated for better compatibility with scikit-learn, use `eval_metric` in constructor or`set_params` instead.\n",
            "  UserWarning,\n"
          ]
        },
        {
          "output_type": "stream",
          "name": "stdout",
          "text": [
            "[0]\tvalidation_0-rmse:38.83236\tvalidation_1-rmse:38.92633\n",
            "[1]\tvalidation_0-rmse:41.32434\tvalidation_1-rmse:41.42039\n",
            "[2]\tvalidation_0-rmse:47.31903\tvalidation_1-rmse:47.50894\n",
            "[3]\tvalidation_0-rmse:47.98706\tvalidation_1-rmse:48.14989\n",
            "[4]\tvalidation_0-rmse:48.95190\tvalidation_1-rmse:49.02846\n",
            "[5]\tvalidation_0-rmse:66.79205\tvalidation_1-rmse:66.44954\n",
            "[6]\tvalidation_0-rmse:77.26001\tvalidation_1-rmse:76.97722\n",
            "[7]\tvalidation_0-rmse:85.79956\tvalidation_1-rmse:85.43461\n",
            "[8]\tvalidation_0-rmse:101.50947\tvalidation_1-rmse:100.98365\n",
            "[9]\tvalidation_0-rmse:124.40379\tvalidation_1-rmse:123.63695\n"
          ]
        },
        {
          "output_type": "stream",
          "name": "stderr",
          "text": [
            "/usr/local/lib/python3.7/dist-packages/xgboost/sklearn.py:797: UserWarning: `eval_metric` in `fit` method is deprecated for better compatibility with scikit-learn, use `eval_metric` in constructor or`set_params` instead.\n",
            "  UserWarning,\n"
          ]
        },
        {
          "output_type": "stream",
          "name": "stdout",
          "text": [
            "[0]\tvalidation_0-rmse:52.20143\tvalidation_1-rmse:51.86846\n",
            "[1]\tvalidation_0-rmse:54.98081\tvalidation_1-rmse:54.61882\n",
            "[2]\tvalidation_0-rmse:83.00223\tvalidation_1-rmse:82.42310\n",
            "[3]\tvalidation_0-rmse:94.79820\tvalidation_1-rmse:94.01681\n",
            "[4]\tvalidation_0-rmse:129.22333\tvalidation_1-rmse:128.04584\n",
            "[5]\tvalidation_0-rmse:147.03321\tvalidation_1-rmse:145.61351\n",
            "[6]\tvalidation_0-rmse:165.54659\tvalidation_1-rmse:163.88465\n",
            "[7]\tvalidation_0-rmse:189.49539\tvalidation_1-rmse:187.59323\n",
            "[8]\tvalidation_0-rmse:201.88551\tvalidation_1-rmse:199.83844\n",
            "[9]\tvalidation_0-rmse:214.39322\tvalidation_1-rmse:212.20242\n"
          ]
        },
        {
          "output_type": "stream",
          "name": "stderr",
          "text": [
            "/usr/local/lib/python3.7/dist-packages/xgboost/sklearn.py:797: UserWarning: `eval_metric` in `fit` method is deprecated for better compatibility with scikit-learn, use `eval_metric` in constructor or`set_params` instead.\n",
            "  UserWarning,\n"
          ]
        },
        {
          "output_type": "stream",
          "name": "stdout",
          "text": [
            "[0]\tvalidation_0-rmse:40.15118\tvalidation_1-rmse:40.26315\n",
            "[1]\tvalidation_0-rmse:40.27415\tvalidation_1-rmse:40.39106\n",
            "[2]\tvalidation_0-rmse:41.54675\tvalidation_1-rmse:41.67911\n",
            "[3]\tvalidation_0-rmse:41.82803\tvalidation_1-rmse:41.95724\n",
            "[4]\tvalidation_0-rmse:42.80364\tvalidation_1-rmse:42.96196\n",
            "[5]\tvalidation_0-rmse:43.07082\tvalidation_1-rmse:43.23725\n",
            "[6]\tvalidation_0-rmse:43.38401\tvalidation_1-rmse:43.53319\n",
            "[7]\tvalidation_0-rmse:44.79245\tvalidation_1-rmse:44.97847\n",
            "[8]\tvalidation_0-rmse:46.89579\tvalidation_1-rmse:47.09986\n",
            "[9]\tvalidation_0-rmse:48.44523\tvalidation_1-rmse:48.66294\n",
            "[10]\tvalidation_0-rmse:48.58175\tvalidation_1-rmse:48.82351\n",
            "[11]\tvalidation_0-rmse:48.63256\tvalidation_1-rmse:48.87850\n",
            "[12]\tvalidation_0-rmse:48.64637\tvalidation_1-rmse:48.90078\n",
            "[13]\tvalidation_0-rmse:50.00371\tvalidation_1-rmse:50.22097\n",
            "[14]\tvalidation_0-rmse:51.32348\tvalidation_1-rmse:51.52706\n",
            "[15]\tvalidation_0-rmse:52.36850\tvalidation_1-rmse:52.56254\n",
            "[16]\tvalidation_0-rmse:52.34707\tvalidation_1-rmse:52.54099\n",
            "[17]\tvalidation_0-rmse:52.32558\tvalidation_1-rmse:52.51943\n",
            "[18]\tvalidation_0-rmse:52.49023\tvalidation_1-rmse:52.72444\n"
          ]
        },
        {
          "output_type": "stream",
          "name": "stderr",
          "text": [
            "/usr/local/lib/python3.7/dist-packages/xgboost/sklearn.py:797: UserWarning: `eval_metric` in `fit` method is deprecated for better compatibility with scikit-learn, use `eval_metric` in constructor or`set_params` instead.\n",
            "  UserWarning,\n"
          ]
        },
        {
          "output_type": "stream",
          "name": "stdout",
          "text": [
            "[19]\tvalidation_0-rmse:52.46873\tvalidation_1-rmse:52.70245\n",
            "[0]\tvalidation_0-rmse:36.18911\tvalidation_1-rmse:36.29907\n",
            "[1]\tvalidation_0-rmse:44.71391\tvalidation_1-rmse:44.76706\n",
            "[2]\tvalidation_0-rmse:79.79169\tvalidation_1-rmse:79.05510\n",
            "[3]\tvalidation_0-rmse:82.88605\tvalidation_1-rmse:82.16475\n",
            "[4]\tvalidation_0-rmse:89.50909\tvalidation_1-rmse:88.94034\n",
            "[5]\tvalidation_0-rmse:102.56254\tvalidation_1-rmse:101.59730\n",
            "[6]\tvalidation_0-rmse:111.98292\tvalidation_1-rmse:111.14800\n",
            "[7]\tvalidation_0-rmse:111.88894\tvalidation_1-rmse:111.05466\n",
            "[8]\tvalidation_0-rmse:111.79501\tvalidation_1-rmse:110.96141\n",
            "[9]\tvalidation_0-rmse:111.70124\tvalidation_1-rmse:110.86831\n",
            "[10]\tvalidation_0-rmse:111.60749\tvalidation_1-rmse:110.77514\n",
            "[11]\tvalidation_0-rmse:111.51377\tvalidation_1-rmse:110.68203\n",
            "[12]\tvalidation_0-rmse:111.42022\tvalidation_1-rmse:110.58913\n",
            "[13]\tvalidation_0-rmse:111.32670\tvalidation_1-rmse:110.49626\n",
            "[14]\tvalidation_0-rmse:111.23336\tvalidation_1-rmse:110.40357\n",
            "[15]\tvalidation_0-rmse:111.14002\tvalidation_1-rmse:110.31087\n",
            "[16]\tvalidation_0-rmse:111.04683\tvalidation_1-rmse:110.21830\n",
            "[17]\tvalidation_0-rmse:110.95378\tvalidation_1-rmse:110.12581\n",
            "[18]\tvalidation_0-rmse:110.86077\tvalidation_1-rmse:110.03343\n",
            "[19]\tvalidation_0-rmse:110.76786\tvalidation_1-rmse:109.94110\n"
          ]
        },
        {
          "output_type": "stream",
          "name": "stderr",
          "text": [
            "/usr/local/lib/python3.7/dist-packages/xgboost/sklearn.py:797: UserWarning: `eval_metric` in `fit` method is deprecated for better compatibility with scikit-learn, use `eval_metric` in constructor or`set_params` instead.\n",
            "  UserWarning,\n"
          ]
        },
        {
          "output_type": "stream",
          "name": "stdout",
          "text": [
            "[0]\tvalidation_0-rmse:33.53217\tvalidation_1-rmse:33.27734\n",
            "[1]\tvalidation_0-rmse:38.32231\tvalidation_1-rmse:37.98264\n",
            "[2]\tvalidation_0-rmse:62.70669\tvalidation_1-rmse:61.96432\n",
            "[3]\tvalidation_0-rmse:82.55320\tvalidation_1-rmse:81.85748\n",
            "[4]\tvalidation_0-rmse:104.44709\tvalidation_1-rmse:103.77494\n",
            "[5]\tvalidation_0-rmse:127.33664\tvalidation_1-rmse:126.67027\n",
            "[6]\tvalidation_0-rmse:125.73887\tvalidation_1-rmse:124.66546\n",
            "[7]\tvalidation_0-rmse:125.73713\tvalidation_1-rmse:124.66852\n",
            "[8]\tvalidation_0-rmse:125.73205\tvalidation_1-rmse:124.67343\n",
            "[9]\tvalidation_0-rmse:120.24123\tvalidation_1-rmse:119.15239\n",
            "[10]\tvalidation_0-rmse:115.68805\tvalidation_1-rmse:114.97688\n",
            "[11]\tvalidation_0-rmse:115.46151\tvalidation_1-rmse:114.72226\n",
            "[12]\tvalidation_0-rmse:108.03320\tvalidation_1-rmse:107.42957\n",
            "[13]\tvalidation_0-rmse:106.03704\tvalidation_1-rmse:105.30888\n",
            "[14]\tvalidation_0-rmse:109.61817\tvalidation_1-rmse:108.67604\n",
            "[15]\tvalidation_0-rmse:117.95070\tvalidation_1-rmse:117.71676\n",
            "[16]\tvalidation_0-rmse:117.91320\tvalidation_1-rmse:117.67809\n",
            "[17]\tvalidation_0-rmse:117.87580\tvalidation_1-rmse:117.63958\n",
            "[18]\tvalidation_0-rmse:117.83855\tvalidation_1-rmse:117.60114\n",
            "[19]\tvalidation_0-rmse:117.80129\tvalidation_1-rmse:117.56269\n"
          ]
        },
        {
          "output_type": "stream",
          "name": "stderr",
          "text": [
            "/usr/local/lib/python3.7/dist-packages/xgboost/sklearn.py:797: UserWarning: `eval_metric` in `fit` method is deprecated for better compatibility with scikit-learn, use `eval_metric` in constructor or`set_params` instead.\n",
            "  UserWarning,\n"
          ]
        },
        {
          "output_type": "stream",
          "name": "stdout",
          "text": [
            "[0]\tvalidation_0-rmse:38.83236\tvalidation_1-rmse:38.92633\n",
            "[1]\tvalidation_0-rmse:41.32434\tvalidation_1-rmse:41.42039\n",
            "[2]\tvalidation_0-rmse:47.31903\tvalidation_1-rmse:47.50894\n",
            "[3]\tvalidation_0-rmse:47.98706\tvalidation_1-rmse:48.14989\n",
            "[4]\tvalidation_0-rmse:48.95190\tvalidation_1-rmse:49.02846\n",
            "[5]\tvalidation_0-rmse:66.79205\tvalidation_1-rmse:66.44954\n",
            "[6]\tvalidation_0-rmse:77.26001\tvalidation_1-rmse:76.97722\n",
            "[7]\tvalidation_0-rmse:85.79956\tvalidation_1-rmse:85.43461\n",
            "[8]\tvalidation_0-rmse:101.50947\tvalidation_1-rmse:100.98365\n",
            "[9]\tvalidation_0-rmse:124.40379\tvalidation_1-rmse:123.63695\n",
            "[10]\tvalidation_0-rmse:126.54204\tvalidation_1-rmse:125.75321\n",
            "[11]\tvalidation_0-rmse:140.98812\tvalidation_1-rmse:140.05111\n",
            "[12]\tvalidation_0-rmse:153.29576\tvalidation_1-rmse:152.24604\n",
            "[13]\tvalidation_0-rmse:158.47569\tvalidation_1-rmse:157.40567\n",
            "[14]\tvalidation_0-rmse:148.05197\tvalidation_1-rmse:147.57624\n",
            "[15]\tvalidation_0-rmse:147.85392\tvalidation_1-rmse:147.42387\n",
            "[16]\tvalidation_0-rmse:147.45424\tvalidation_1-rmse:147.04300\n",
            "[17]\tvalidation_0-rmse:146.47949\tvalidation_1-rmse:146.07958\n",
            "[18]\tvalidation_0-rmse:146.11405\tvalidation_1-rmse:145.73788\n",
            "[19]\tvalidation_0-rmse:145.74065\tvalidation_1-rmse:145.40029\n"
          ]
        },
        {
          "output_type": "stream",
          "name": "stderr",
          "text": [
            "/usr/local/lib/python3.7/dist-packages/xgboost/sklearn.py:797: UserWarning: `eval_metric` in `fit` method is deprecated for better compatibility with scikit-learn, use `eval_metric` in constructor or`set_params` instead.\n",
            "  UserWarning,\n"
          ]
        },
        {
          "output_type": "stream",
          "name": "stdout",
          "text": [
            "[0]\tvalidation_0-rmse:52.20143\tvalidation_1-rmse:51.86846\n",
            "[1]\tvalidation_0-rmse:54.98081\tvalidation_1-rmse:54.61882\n",
            "[2]\tvalidation_0-rmse:83.00223\tvalidation_1-rmse:82.42310\n",
            "[3]\tvalidation_0-rmse:94.79820\tvalidation_1-rmse:94.01681\n",
            "[4]\tvalidation_0-rmse:129.22333\tvalidation_1-rmse:128.04584\n",
            "[5]\tvalidation_0-rmse:147.03321\tvalidation_1-rmse:145.61351\n",
            "[6]\tvalidation_0-rmse:165.54659\tvalidation_1-rmse:163.88465\n",
            "[7]\tvalidation_0-rmse:189.49539\tvalidation_1-rmse:187.59323\n",
            "[8]\tvalidation_0-rmse:201.88551\tvalidation_1-rmse:199.83844\n",
            "[9]\tvalidation_0-rmse:214.39322\tvalidation_1-rmse:212.20242\n",
            "[10]\tvalidation_0-rmse:239.02748\tvalidation_1-rmse:236.68406\n",
            "[11]\tvalidation_0-rmse:244.83974\tvalidation_1-rmse:242.35526\n",
            "[12]\tvalidation_0-rmse:243.32088\tvalidation_1-rmse:240.42859\n",
            "[13]\tvalidation_0-rmse:243.29067\tvalidation_1-rmse:240.39888\n",
            "[14]\tvalidation_0-rmse:243.26049\tvalidation_1-rmse:240.36918\n",
            "[15]\tvalidation_0-rmse:243.23033\tvalidation_1-rmse:240.33951\n",
            "[16]\tvalidation_0-rmse:243.20021\tvalidation_1-rmse:240.30989\n"
          ]
        },
        {
          "output_type": "stream",
          "name": "stderr",
          "text": [
            "/usr/local/lib/python3.7/dist-packages/xgboost/sklearn.py:797: UserWarning: `eval_metric` in `fit` method is deprecated for better compatibility with scikit-learn, use `eval_metric` in constructor or`set_params` instead.\n",
            "  UserWarning,\n"
          ]
        },
        {
          "output_type": "stream",
          "name": "stdout",
          "text": [
            "[17]\tvalidation_0-rmse:243.17010\tvalidation_1-rmse:240.28026\n",
            "[18]\tvalidation_0-rmse:243.14004\tvalidation_1-rmse:240.25067\n",
            "[19]\tvalidation_0-rmse:243.11001\tvalidation_1-rmse:240.22112\n",
            "[0]\tvalidation_0-rmse:43.85042\tvalidation_1-rmse:43.99250\n",
            "[1]\tvalidation_0-rmse:57.71364\tvalidation_1-rmse:57.58381\n",
            "[2]\tvalidation_0-rmse:71.82368\tvalidation_1-rmse:71.90864\n",
            "[3]\tvalidation_0-rmse:78.12534\tvalidation_1-rmse:78.14079\n",
            "[4]\tvalidation_0-rmse:84.72535\tvalidation_1-rmse:84.68055\n",
            "[5]\tvalidation_0-rmse:90.82014\tvalidation_1-rmse:90.74781\n",
            "[6]\tvalidation_0-rmse:97.18107\tvalidation_1-rmse:97.03835\n",
            "[7]\tvalidation_0-rmse:103.76277\tvalidation_1-rmse:103.56536\n"
          ]
        },
        {
          "output_type": "stream",
          "name": "stderr",
          "text": [
            "/usr/local/lib/python3.7/dist-packages/xgboost/sklearn.py:797: UserWarning: `eval_metric` in `fit` method is deprecated for better compatibility with scikit-learn, use `eval_metric` in constructor or`set_params` instead.\n",
            "  UserWarning,\n"
          ]
        },
        {
          "output_type": "stream",
          "name": "stdout",
          "text": [
            "[8]\tvalidation_0-rmse:110.53614\tvalidation_1-rmse:110.29233\n",
            "[9]\tvalidation_0-rmse:117.54237\tvalidation_1-rmse:117.27641\n",
            "[0]\tvalidation_0-rmse:36.20385\tvalidation_1-rmse:36.30911\n",
            "[1]\tvalidation_0-rmse:45.39859\tvalidation_1-rmse:45.65937\n",
            "[2]\tvalidation_0-rmse:83.70828\tvalidation_1-rmse:83.69591\n",
            "[3]\tvalidation_0-rmse:141.01835\tvalidation_1-rmse:141.49537\n",
            "[4]\tvalidation_0-rmse:172.74058\tvalidation_1-rmse:171.26109\n",
            "[5]\tvalidation_0-rmse:275.79737\tvalidation_1-rmse:275.34761\n",
            "[6]\tvalidation_0-rmse:450.07136\tvalidation_1-rmse:445.11217\n",
            "[7]\tvalidation_0-rmse:1099.64147\tvalidation_1-rmse:1097.25910\n",
            "[8]\tvalidation_0-rmse:1101.22129\tvalidation_1-rmse:1098.87543\n",
            "[9]\tvalidation_0-rmse:1098.36557\tvalidation_1-rmse:1096.15518\n"
          ]
        },
        {
          "output_type": "stream",
          "name": "stderr",
          "text": [
            "/usr/local/lib/python3.7/dist-packages/xgboost/sklearn.py:797: UserWarning: `eval_metric` in `fit` method is deprecated for better compatibility with scikit-learn, use `eval_metric` in constructor or`set_params` instead.\n",
            "  UserWarning,\n"
          ]
        },
        {
          "output_type": "stream",
          "name": "stdout",
          "text": [
            "[0]\tvalidation_0-rmse:33.53410\tvalidation_1-rmse:33.27872\n",
            "[1]\tvalidation_0-rmse:38.79982\tvalidation_1-rmse:38.41309\n",
            "[2]\tvalidation_0-rmse:42.72154\tvalidation_1-rmse:42.50158\n",
            "[3]\tvalidation_0-rmse:46.56702\tvalidation_1-rmse:46.16726\n",
            "[4]\tvalidation_0-rmse:45.75463\tvalidation_1-rmse:45.42199\n",
            "[5]\tvalidation_0-rmse:58.59656\tvalidation_1-rmse:58.06588\n",
            "[6]\tvalidation_0-rmse:68.68523\tvalidation_1-rmse:67.93908\n",
            "[7]\tvalidation_0-rmse:136.50845\tvalidation_1-rmse:134.36618\n",
            "[8]\tvalidation_0-rmse:220.93546\tvalidation_1-rmse:222.13670\n",
            "[9]\tvalidation_0-rmse:225.01111\tvalidation_1-rmse:223.50991\n"
          ]
        },
        {
          "output_type": "stream",
          "name": "stderr",
          "text": [
            "/usr/local/lib/python3.7/dist-packages/xgboost/sklearn.py:797: UserWarning: `eval_metric` in `fit` method is deprecated for better compatibility with scikit-learn, use `eval_metric` in constructor or`set_params` instead.\n",
            "  UserWarning,\n"
          ]
        },
        {
          "output_type": "stream",
          "name": "stdout",
          "text": [
            "[0]\tvalidation_0-rmse:53.96930\tvalidation_1-rmse:53.88268\n",
            "[1]\tvalidation_0-rmse:82.88430\tvalidation_1-rmse:82.78000\n",
            "[2]\tvalidation_0-rmse:122.84030\tvalidation_1-rmse:121.79254\n",
            "[3]\tvalidation_0-rmse:167.73510\tvalidation_1-rmse:167.18294\n",
            "[4]\tvalidation_0-rmse:301.46562\tvalidation_1-rmse:302.30489\n",
            "[5]\tvalidation_0-rmse:307.58378\tvalidation_1-rmse:308.43856\n",
            "[6]\tvalidation_0-rmse:316.10413\tvalidation_1-rmse:316.97726\n",
            "[7]\tvalidation_0-rmse:319.40894\tvalidation_1-rmse:320.29524\n",
            "[8]\tvalidation_0-rmse:313.76168\tvalidation_1-rmse:314.58921\n",
            "[9]\tvalidation_0-rmse:314.43494\tvalidation_1-rmse:315.47501\n"
          ]
        },
        {
          "output_type": "stream",
          "name": "stderr",
          "text": [
            "/usr/local/lib/python3.7/dist-packages/xgboost/sklearn.py:797: UserWarning: `eval_metric` in `fit` method is deprecated for better compatibility with scikit-learn, use `eval_metric` in constructor or`set_params` instead.\n",
            "  UserWarning,\n"
          ]
        },
        {
          "output_type": "stream",
          "name": "stdout",
          "text": [
            "[0]\tvalidation_0-rmse:52.20246\tvalidation_1-rmse:51.86952\n",
            "[1]\tvalidation_0-rmse:57.45679\tvalidation_1-rmse:56.97641\n",
            "[2]\tvalidation_0-rmse:95.29643\tvalidation_1-rmse:95.02382\n",
            "[3]\tvalidation_0-rmse:127.56505\tvalidation_1-rmse:127.16846\n",
            "[4]\tvalidation_0-rmse:150.69658\tvalidation_1-rmse:149.76149\n",
            "[5]\tvalidation_0-rmse:151.69494\tvalidation_1-rmse:150.73308\n",
            "[6]\tvalidation_0-rmse:154.99014\tvalidation_1-rmse:153.92927\n",
            "[7]\tvalidation_0-rmse:174.58091\tvalidation_1-rmse:173.16277\n",
            "[8]\tvalidation_0-rmse:183.69344\tvalidation_1-rmse:182.39679\n",
            "[9]\tvalidation_0-rmse:202.20422\tvalidation_1-rmse:200.55264\n"
          ]
        },
        {
          "output_type": "stream",
          "name": "stderr",
          "text": [
            "/usr/local/lib/python3.7/dist-packages/xgboost/sklearn.py:797: UserWarning: `eval_metric` in `fit` method is deprecated for better compatibility with scikit-learn, use `eval_metric` in constructor or`set_params` instead.\n",
            "  UserWarning,\n"
          ]
        },
        {
          "output_type": "stream",
          "name": "stdout",
          "text": [
            "[0]\tvalidation_0-rmse:43.85042\tvalidation_1-rmse:43.99250\n",
            "[1]\tvalidation_0-rmse:57.71364\tvalidation_1-rmse:57.58381\n",
            "[2]\tvalidation_0-rmse:71.82368\tvalidation_1-rmse:71.90864\n",
            "[3]\tvalidation_0-rmse:78.12534\tvalidation_1-rmse:78.14079\n",
            "[4]\tvalidation_0-rmse:84.72535\tvalidation_1-rmse:84.68055\n",
            "[5]\tvalidation_0-rmse:90.82014\tvalidation_1-rmse:90.74781\n",
            "[6]\tvalidation_0-rmse:97.18107\tvalidation_1-rmse:97.03835\n",
            "[7]\tvalidation_0-rmse:103.76277\tvalidation_1-rmse:103.56536\n",
            "[8]\tvalidation_0-rmse:110.53614\tvalidation_1-rmse:110.29233\n",
            "[9]\tvalidation_0-rmse:117.54237\tvalidation_1-rmse:117.27641\n",
            "[10]\tvalidation_0-rmse:131.12484\tvalidation_1-rmse:130.97260\n",
            "[11]\tvalidation_0-rmse:147.54774\tvalidation_1-rmse:147.11057\n",
            "[12]\tvalidation_0-rmse:178.63656\tvalidation_1-rmse:178.12457\n",
            "[13]\tvalidation_0-rmse:172.61707\tvalidation_1-rmse:172.27012\n"
          ]
        },
        {
          "output_type": "stream",
          "name": "stderr",
          "text": [
            "/usr/local/lib/python3.7/dist-packages/xgboost/sklearn.py:797: UserWarning: `eval_metric` in `fit` method is deprecated for better compatibility with scikit-learn, use `eval_metric` in constructor or`set_params` instead.\n",
            "  UserWarning,\n"
          ]
        },
        {
          "output_type": "stream",
          "name": "stdout",
          "text": [
            "[14]\tvalidation_0-rmse:208.77761\tvalidation_1-rmse:208.16637\n",
            "[15]\tvalidation_0-rmse:247.14166\tvalidation_1-rmse:245.85079\n",
            "[16]\tvalidation_0-rmse:247.12196\tvalidation_1-rmse:245.83358\n",
            "[17]\tvalidation_0-rmse:284.12011\tvalidation_1-rmse:282.77071\n",
            "[18]\tvalidation_0-rmse:295.98700\tvalidation_1-rmse:294.26636\n",
            "[19]\tvalidation_0-rmse:309.04243\tvalidation_1-rmse:307.30084\n",
            "[0]\tvalidation_0-rmse:36.20385\tvalidation_1-rmse:36.30911\n",
            "[1]\tvalidation_0-rmse:45.39859\tvalidation_1-rmse:45.65937\n",
            "[2]\tvalidation_0-rmse:83.70828\tvalidation_1-rmse:83.69591\n",
            "[3]\tvalidation_0-rmse:141.01835\tvalidation_1-rmse:141.49537\n",
            "[4]\tvalidation_0-rmse:172.74058\tvalidation_1-rmse:171.26109\n",
            "[5]\tvalidation_0-rmse:275.79737\tvalidation_1-rmse:275.34761\n",
            "[6]\tvalidation_0-rmse:450.07136\tvalidation_1-rmse:445.11217\n",
            "[7]\tvalidation_0-rmse:1099.64147\tvalidation_1-rmse:1097.25910\n",
            "[8]\tvalidation_0-rmse:1101.22129\tvalidation_1-rmse:1098.87543\n",
            "[9]\tvalidation_0-rmse:1098.36557\tvalidation_1-rmse:1096.15518\n",
            "[10]\tvalidation_0-rmse:1251.99687\tvalidation_1-rmse:1248.71273\n",
            "[11]\tvalidation_0-rmse:3887.05828\tvalidation_1-rmse:3882.24050\n",
            "[12]\tvalidation_0-rmse:3941.94299\tvalidation_1-rmse:3922.53992\n",
            "[13]\tvalidation_0-rmse:3971.40584\tvalidation_1-rmse:3952.80230\n",
            "[14]\tvalidation_0-rmse:4866.96674\tvalidation_1-rmse:4857.19204\n",
            "[15]\tvalidation_0-rmse:4718.80293\tvalidation_1-rmse:4701.89190\n",
            "[16]\tvalidation_0-rmse:5236.48374\tvalidation_1-rmse:5343.47261\n",
            "[17]\tvalidation_0-rmse:5246.11567\tvalidation_1-rmse:5361.07514\n"
          ]
        },
        {
          "output_type": "stream",
          "name": "stderr",
          "text": [
            "/usr/local/lib/python3.7/dist-packages/xgboost/sklearn.py:797: UserWarning: `eval_metric` in `fit` method is deprecated for better compatibility with scikit-learn, use `eval_metric` in constructor or`set_params` instead.\n",
            "  UserWarning,\n"
          ]
        },
        {
          "output_type": "stream",
          "name": "stdout",
          "text": [
            "[18]\tvalidation_0-rmse:15721.55214\tvalidation_1-rmse:15482.83439\n",
            "[19]\tvalidation_0-rmse:21992.12780\tvalidation_1-rmse:21807.53198\n",
            "[0]\tvalidation_0-rmse:33.53410\tvalidation_1-rmse:33.27872\n",
            "[1]\tvalidation_0-rmse:38.79982\tvalidation_1-rmse:38.41309\n",
            "[2]\tvalidation_0-rmse:42.72154\tvalidation_1-rmse:42.50158\n",
            "[3]\tvalidation_0-rmse:46.56702\tvalidation_1-rmse:46.16726\n",
            "[4]\tvalidation_0-rmse:45.75463\tvalidation_1-rmse:45.42199\n",
            "[5]\tvalidation_0-rmse:58.59656\tvalidation_1-rmse:58.06588\n",
            "[6]\tvalidation_0-rmse:68.68523\tvalidation_1-rmse:67.93908\n",
            "[7]\tvalidation_0-rmse:136.50845\tvalidation_1-rmse:134.36618\n",
            "[8]\tvalidation_0-rmse:220.93546\tvalidation_1-rmse:222.13670\n",
            "[9]\tvalidation_0-rmse:225.01111\tvalidation_1-rmse:223.50991\n",
            "[10]\tvalidation_0-rmse:381.78190\tvalidation_1-rmse:379.88643\n",
            "[11]\tvalidation_0-rmse:386.29615\tvalidation_1-rmse:384.74872\n",
            "[12]\tvalidation_0-rmse:465.26316\tvalidation_1-rmse:463.77701\n",
            "[13]\tvalidation_0-rmse:486.42036\tvalidation_1-rmse:489.79860\n",
            "[14]\tvalidation_0-rmse:688.95594\tvalidation_1-rmse:681.18103\n",
            "[15]\tvalidation_0-rmse:765.88063\tvalidation_1-rmse:764.30994\n"
          ]
        },
        {
          "output_type": "stream",
          "name": "stderr",
          "text": [
            "/usr/local/lib/python3.7/dist-packages/xgboost/sklearn.py:797: UserWarning: `eval_metric` in `fit` method is deprecated for better compatibility with scikit-learn, use `eval_metric` in constructor or`set_params` instead.\n",
            "  UserWarning,\n"
          ]
        },
        {
          "output_type": "stream",
          "name": "stdout",
          "text": [
            "[16]\tvalidation_0-rmse:1319.38891\tvalidation_1-rmse:1322.61474\n",
            "[17]\tvalidation_0-rmse:3360.06795\tvalidation_1-rmse:3336.12198\n",
            "[18]\tvalidation_0-rmse:3438.24110\tvalidation_1-rmse:3424.32612\n",
            "[19]\tvalidation_0-rmse:3727.72283\tvalidation_1-rmse:3704.40028\n",
            "[0]\tvalidation_0-rmse:53.96930\tvalidation_1-rmse:53.88268\n",
            "[1]\tvalidation_0-rmse:82.88430\tvalidation_1-rmse:82.78000\n",
            "[2]\tvalidation_0-rmse:122.84030\tvalidation_1-rmse:121.79254\n",
            "[3]\tvalidation_0-rmse:167.73510\tvalidation_1-rmse:167.18294\n",
            "[4]\tvalidation_0-rmse:301.46562\tvalidation_1-rmse:302.30489\n",
            "[5]\tvalidation_0-rmse:307.58378\tvalidation_1-rmse:308.43856\n",
            "[6]\tvalidation_0-rmse:316.10413\tvalidation_1-rmse:316.97726\n",
            "[7]\tvalidation_0-rmse:319.40894\tvalidation_1-rmse:320.29524\n",
            "[8]\tvalidation_0-rmse:313.76168\tvalidation_1-rmse:314.58921\n",
            "[9]\tvalidation_0-rmse:314.43494\tvalidation_1-rmse:315.47501\n",
            "[10]\tvalidation_0-rmse:314.90612\tvalidation_1-rmse:315.85743\n",
            "[11]\tvalidation_0-rmse:316.71621\tvalidation_1-rmse:317.66977\n",
            "[12]\tvalidation_0-rmse:320.43922\tvalidation_1-rmse:321.42119\n",
            "[13]\tvalidation_0-rmse:324.38315\tvalidation_1-rmse:325.35649\n"
          ]
        },
        {
          "output_type": "stream",
          "name": "stderr",
          "text": [
            "/usr/local/lib/python3.7/dist-packages/xgboost/sklearn.py:797: UserWarning: `eval_metric` in `fit` method is deprecated for better compatibility with scikit-learn, use `eval_metric` in constructor or`set_params` instead.\n",
            "  UserWarning,\n"
          ]
        },
        {
          "output_type": "stream",
          "name": "stdout",
          "text": [
            "[14]\tvalidation_0-rmse:320.61216\tvalidation_1-rmse:321.59973\n",
            "[15]\tvalidation_0-rmse:320.01240\tvalidation_1-rmse:320.91398\n",
            "[16]\tvalidation_0-rmse:319.84198\tvalidation_1-rmse:320.75786\n",
            "[17]\tvalidation_0-rmse:319.91128\tvalidation_1-rmse:320.80499\n",
            "[18]\tvalidation_0-rmse:319.26974\tvalidation_1-rmse:320.09914\n",
            "[19]\tvalidation_0-rmse:319.15806\tvalidation_1-rmse:319.98899\n",
            "[0]\tvalidation_0-rmse:52.20246\tvalidation_1-rmse:51.86952\n",
            "[1]\tvalidation_0-rmse:57.45679\tvalidation_1-rmse:56.97641\n",
            "[2]\tvalidation_0-rmse:95.29643\tvalidation_1-rmse:95.02382\n",
            "[3]\tvalidation_0-rmse:127.56505\tvalidation_1-rmse:127.16846\n",
            "[4]\tvalidation_0-rmse:150.69658\tvalidation_1-rmse:149.76149\n",
            "[5]\tvalidation_0-rmse:151.69494\tvalidation_1-rmse:150.73308\n",
            "[6]\tvalidation_0-rmse:154.99014\tvalidation_1-rmse:153.92927\n",
            "[7]\tvalidation_0-rmse:174.58091\tvalidation_1-rmse:173.16277\n",
            "[8]\tvalidation_0-rmse:183.69344\tvalidation_1-rmse:182.39679\n",
            "[9]\tvalidation_0-rmse:202.20422\tvalidation_1-rmse:200.55264\n",
            "[10]\tvalidation_0-rmse:200.58437\tvalidation_1-rmse:198.63962\n",
            "[11]\tvalidation_0-rmse:210.00971\tvalidation_1-rmse:208.03950\n",
            "[12]\tvalidation_0-rmse:219.71795\tvalidation_1-rmse:217.76173\n",
            "[13]\tvalidation_0-rmse:229.76145\tvalidation_1-rmse:227.76028\n",
            "[14]\tvalidation_0-rmse:228.46310\tvalidation_1-rmse:225.62646\n"
          ]
        },
        {
          "output_type": "stream",
          "name": "stderr",
          "text": [
            "/usr/local/lib/python3.7/dist-packages/xgboost/sklearn.py:797: UserWarning: `eval_metric` in `fit` method is deprecated for better compatibility with scikit-learn, use `eval_metric` in constructor or`set_params` instead.\n",
            "  UserWarning,\n"
          ]
        },
        {
          "output_type": "stream",
          "name": "stdout",
          "text": [
            "[15]\tvalidation_0-rmse:229.49430\tvalidation_1-rmse:226.80285\n",
            "[16]\tvalidation_0-rmse:233.37768\tvalidation_1-rmse:230.85496\n",
            "[17]\tvalidation_0-rmse:236.51944\tvalidation_1-rmse:234.13183\n",
            "[18]\tvalidation_0-rmse:239.74142\tvalidation_1-rmse:237.52643\n",
            "[19]\tvalidation_0-rmse:241.39606\tvalidation_1-rmse:239.28229\n",
            "[0]\tvalidation_0-rmse:34.72798\tvalidation_1-rmse:34.47470\n",
            "[1]\tvalidation_0-rmse:34.69895\tvalidation_1-rmse:34.44313\n",
            "[2]\tvalidation_0-rmse:34.69866\tvalidation_1-rmse:34.44286\n",
            "[3]\tvalidation_0-rmse:34.71950\tvalidation_1-rmse:34.45394\n",
            "[4]\tvalidation_0-rmse:35.49192\tvalidation_1-rmse:35.22522\n",
            "[5]\tvalidation_0-rmse:36.29395\tvalidation_1-rmse:36.02634\n",
            "[6]\tvalidation_0-rmse:37.12363\tvalidation_1-rmse:36.85533\n",
            "[7]\tvalidation_0-rmse:37.14339\tvalidation_1-rmse:36.87697\n",
            "[8]\tvalidation_0-rmse:38.13397\tvalidation_1-rmse:37.86468\n",
            "[9]\tvalidation_0-rmse:38.11865\tvalidation_1-rmse:37.85129\n",
            "[10]\tvalidation_0-rmse:40.60011\tvalidation_1-rmse:40.36045\n",
            "[11]\tvalidation_0-rmse:41.97511\tvalidation_1-rmse:41.74700\n",
            "[12]\tvalidation_0-rmse:43.98526\tvalidation_1-rmse:43.77416\n",
            "[13]\tvalidation_0-rmse:43.99659\tvalidation_1-rmse:43.78607\n",
            "[14]\tvalidation_0-rmse:44.00834\tvalidation_1-rmse:43.79849\n",
            "[15]\tvalidation_0-rmse:44.40585\tvalidation_1-rmse:44.19643\n",
            "[16]\tvalidation_0-rmse:44.41811\tvalidation_1-rmse:44.20944\n",
            "[17]\tvalidation_0-rmse:44.82489\tvalidation_1-rmse:44.61684\n",
            "[18]\tvalidation_0-rmse:45.23845\tvalidation_1-rmse:45.03117\n",
            "[19]\tvalidation_0-rmse:46.95580\tvalidation_1-rmse:46.75471\n",
            "-------------- GridSearchCV XGBRegressor --------------\n",
            "Temps de calcul: 0.0 : 0.0 : 23.625324487686157\n",
            "Best parameters: {'early_stopping_rounds': 20, 'learning_rate': 0.0001, 'max_depth': 3, 'n_estimators': 20}\n",
            "Best cross-validation score (neg_root_mean_squared_error): -33.283 (std: 0.763)\n",
            "\n",
            "\n"
          ]
        },
        {
          "output_type": "stream",
          "name": "stderr",
          "text": [
            "/usr/local/lib/python3.7/dist-packages/xgboost/sklearn.py:797: UserWarning: `eval_metric` in `fit` method is deprecated for better compatibility with scikit-learn, use `eval_metric` in constructor or`set_params` instead.\n",
            "  UserWarning,\n"
          ]
        }
      ]
    },
    {
      "cell_type": "code",
      "source": [
        "results_grid_search_xgb[['params', 'mean_train_score', 'mean_test_score']].head(30)"
      ],
      "metadata": {
        "colab": {
          "base_uri": "https://localhost:8080/",
          "height": 297
        },
        "id": "BYK1SUe3Yu5H",
        "outputId": "72efe287-9313-4456-b712-c88b82106e48"
      },
      "execution_count": 55,
      "outputs": [
        {
          "output_type": "execute_result",
          "data": {
            "text/plain": [
              "                                              params  mean_train_score  \\\n",
              "1  {'early_stopping_rounds': 20, 'learning_rate':...        -33.281709   \n",
              "0  {'early_stopping_rounds': 20, 'learning_rate':...        -33.282842   \n",
              "2  {'early_stopping_rounds': 20, 'learning_rate':...        -33.528515   \n",
              "3  {'early_stopping_rounds': 20, 'learning_rate':...        -33.528515   \n",
              "4  {'early_stopping_rounds': 20, 'learning_rate':...        -40.182552   \n",
              "5  {'early_stopping_rounds': 20, 'learning_rate':...        -40.182552   \n",
              "6  {'early_stopping_rounds': 20, 'learning_rate':...        -43.936861   \n",
              "7  {'early_stopping_rounds': 20, 'learning_rate':...        -43.936861   \n",
              "\n",
              "   mean_test_score  \n",
              "1       -33.283013  \n",
              "0       -33.284049  \n",
              "2       -33.533136  \n",
              "3       -33.533136  \n",
              "4       -40.087737  \n",
              "5       -40.087737  \n",
              "6       -43.879319  \n",
              "7       -43.879319  "
            ],
            "text/html": [
              "\n",
              "  <div id=\"df-e9811814-24c3-49b9-be5c-55cfc72341bc\">\n",
              "    <div class=\"colab-df-container\">\n",
              "      <div>\n",
              "<style scoped>\n",
              "    .dataframe tbody tr th:only-of-type {\n",
              "        vertical-align: middle;\n",
              "    }\n",
              "\n",
              "    .dataframe tbody tr th {\n",
              "        vertical-align: top;\n",
              "    }\n",
              "\n",
              "    .dataframe thead th {\n",
              "        text-align: right;\n",
              "    }\n",
              "</style>\n",
              "<table border=\"1\" class=\"dataframe\">\n",
              "  <thead>\n",
              "    <tr style=\"text-align: right;\">\n",
              "      <th></th>\n",
              "      <th>params</th>\n",
              "      <th>mean_train_score</th>\n",
              "      <th>mean_test_score</th>\n",
              "    </tr>\n",
              "  </thead>\n",
              "  <tbody>\n",
              "    <tr>\n",
              "      <th>1</th>\n",
              "      <td>{'early_stopping_rounds': 20, 'learning_rate':...</td>\n",
              "      <td>-33.281709</td>\n",
              "      <td>-33.283013</td>\n",
              "    </tr>\n",
              "    <tr>\n",
              "      <th>0</th>\n",
              "      <td>{'early_stopping_rounds': 20, 'learning_rate':...</td>\n",
              "      <td>-33.282842</td>\n",
              "      <td>-33.284049</td>\n",
              "    </tr>\n",
              "    <tr>\n",
              "      <th>2</th>\n",
              "      <td>{'early_stopping_rounds': 20, 'learning_rate':...</td>\n",
              "      <td>-33.528515</td>\n",
              "      <td>-33.533136</td>\n",
              "    </tr>\n",
              "    <tr>\n",
              "      <th>3</th>\n",
              "      <td>{'early_stopping_rounds': 20, 'learning_rate':...</td>\n",
              "      <td>-33.528515</td>\n",
              "      <td>-33.533136</td>\n",
              "    </tr>\n",
              "    <tr>\n",
              "      <th>4</th>\n",
              "      <td>{'early_stopping_rounds': 20, 'learning_rate':...</td>\n",
              "      <td>-40.182552</td>\n",
              "      <td>-40.087737</td>\n",
              "    </tr>\n",
              "    <tr>\n",
              "      <th>5</th>\n",
              "      <td>{'early_stopping_rounds': 20, 'learning_rate':...</td>\n",
              "      <td>-40.182552</td>\n",
              "      <td>-40.087737</td>\n",
              "    </tr>\n",
              "    <tr>\n",
              "      <th>6</th>\n",
              "      <td>{'early_stopping_rounds': 20, 'learning_rate':...</td>\n",
              "      <td>-43.936861</td>\n",
              "      <td>-43.879319</td>\n",
              "    </tr>\n",
              "    <tr>\n",
              "      <th>7</th>\n",
              "      <td>{'early_stopping_rounds': 20, 'learning_rate':...</td>\n",
              "      <td>-43.936861</td>\n",
              "      <td>-43.879319</td>\n",
              "    </tr>\n",
              "  </tbody>\n",
              "</table>\n",
              "</div>\n",
              "      <button class=\"colab-df-convert\" onclick=\"convertToInteractive('df-e9811814-24c3-49b9-be5c-55cfc72341bc')\"\n",
              "              title=\"Convert this dataframe to an interactive table.\"\n",
              "              style=\"display:none;\">\n",
              "        \n",
              "  <svg xmlns=\"http://www.w3.org/2000/svg\" height=\"24px\"viewBox=\"0 0 24 24\"\n",
              "       width=\"24px\">\n",
              "    <path d=\"M0 0h24v24H0V0z\" fill=\"none\"/>\n",
              "    <path d=\"M18.56 5.44l.94 2.06.94-2.06 2.06-.94-2.06-.94-.94-2.06-.94 2.06-2.06.94zm-11 1L8.5 8.5l.94-2.06 2.06-.94-2.06-.94L8.5 2.5l-.94 2.06-2.06.94zm10 10l.94 2.06.94-2.06 2.06-.94-2.06-.94-.94-2.06-.94 2.06-2.06.94z\"/><path d=\"M17.41 7.96l-1.37-1.37c-.4-.4-.92-.59-1.43-.59-.52 0-1.04.2-1.43.59L10.3 9.45l-7.72 7.72c-.78.78-.78 2.05 0 2.83L4 21.41c.39.39.9.59 1.41.59.51 0 1.02-.2 1.41-.59l7.78-7.78 2.81-2.81c.8-.78.8-2.07 0-2.86zM5.41 20L4 18.59l7.72-7.72 1.47 1.35L5.41 20z\"/>\n",
              "  </svg>\n",
              "      </button>\n",
              "      \n",
              "  <style>\n",
              "    .colab-df-container {\n",
              "      display:flex;\n",
              "      flex-wrap:wrap;\n",
              "      gap: 12px;\n",
              "    }\n",
              "\n",
              "    .colab-df-convert {\n",
              "      background-color: #E8F0FE;\n",
              "      border: none;\n",
              "      border-radius: 50%;\n",
              "      cursor: pointer;\n",
              "      display: none;\n",
              "      fill: #1967D2;\n",
              "      height: 32px;\n",
              "      padding: 0 0 0 0;\n",
              "      width: 32px;\n",
              "    }\n",
              "\n",
              "    .colab-df-convert:hover {\n",
              "      background-color: #E2EBFA;\n",
              "      box-shadow: 0px 1px 2px rgba(60, 64, 67, 0.3), 0px 1px 3px 1px rgba(60, 64, 67, 0.15);\n",
              "      fill: #174EA6;\n",
              "    }\n",
              "\n",
              "    [theme=dark] .colab-df-convert {\n",
              "      background-color: #3B4455;\n",
              "      fill: #D2E3FC;\n",
              "    }\n",
              "\n",
              "    [theme=dark] .colab-df-convert:hover {\n",
              "      background-color: #434B5C;\n",
              "      box-shadow: 0px 1px 3px 1px rgba(0, 0, 0, 0.15);\n",
              "      filter: drop-shadow(0px 1px 2px rgba(0, 0, 0, 0.3));\n",
              "      fill: #FFFFFF;\n",
              "    }\n",
              "  </style>\n",
              "\n",
              "      <script>\n",
              "        const buttonEl =\n",
              "          document.querySelector('#df-e9811814-24c3-49b9-be5c-55cfc72341bc button.colab-df-convert');\n",
              "        buttonEl.style.display =\n",
              "          google.colab.kernel.accessAllowed ? 'block' : 'none';\n",
              "\n",
              "        async function convertToInteractive(key) {\n",
              "          const element = document.querySelector('#df-e9811814-24c3-49b9-be5c-55cfc72341bc');\n",
              "          const dataTable =\n",
              "            await google.colab.kernel.invokeFunction('convertToInteractive',\n",
              "                                                     [key], {});\n",
              "          if (!dataTable) return;\n",
              "\n",
              "          const docLinkHtml = 'Like what you see? Visit the ' +\n",
              "            '<a target=\"_blank\" href=https://colab.research.google.com/notebooks/data_table.ipynb>data table notebook</a>'\n",
              "            + ' to learn more about interactive tables.';\n",
              "          element.innerHTML = '';\n",
              "          dataTable['output_type'] = 'display_data';\n",
              "          await google.colab.output.renderOutput(dataTable, element);\n",
              "          const docLink = document.createElement('div');\n",
              "          docLink.innerHTML = docLinkHtml;\n",
              "          element.appendChild(docLink);\n",
              "        }\n",
              "      </script>\n",
              "    </div>\n",
              "  </div>\n",
              "  "
            ]
          },
          "metadata": {},
          "execution_count": 55
        }
      ]
    },
    {
      "cell_type": "code",
      "source": [
        "y_grid_xgb_pred_train = grid_search_xgb.predict(X_train)\n",
        "y_grid_xgb_pred_test = grid_search_xgb.predict(X_test)\n",
        "calculer_metriques_regression(y_train, y_test, y_grid_xgb_pred_train, y_grid_xgb_pred_test)"
      ],
      "metadata": {
        "colab": {
          "base_uri": "https://localhost:8080/"
        },
        "id": "svMbShCbxZdm",
        "outputId": "44432e99-c004-4891-ff1f-ef50cb9afaf2"
      },
      "execution_count": 56,
      "outputs": [
        {
          "output_type": "stream",
          "name": "stdout",
          "text": [
            "RMSE (train) :34.622107477709335\n",
            "MAE (train) :21.078120838183324\n",
            "RMSE (test) :35.89797596444357\n",
            "MAE (test) :21.644459361381212\n"
          ]
        }
      ]
    }
  ]
}