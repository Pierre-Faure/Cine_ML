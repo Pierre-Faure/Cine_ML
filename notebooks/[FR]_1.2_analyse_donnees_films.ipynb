{
 "cells": [
  {
   "cell_type": "code",
   "execution_count": 7,
   "id": "dfbd04e3",
   "metadata": {},
   "outputs": [],
   "source": [
    "# Imports\n",
    "import pandas as pd\n",
    "import os\n",
    "import locale\n",
    "from matplotlib import pyplot as plt\n",
    "import numpy as np\n",
    "import sqlite3\n",
    "from pandas_profiling import ProfileReport\n",
    "\n",
    "locale.setlocale(locale.LC_ALL, 'fr_FR');"
   ]
  },
  {
   "cell_type": "code",
   "execution_count": 8,
   "id": "73cba502",
   "metadata": {},
   "outputs": [
    {
     "name": "stdout",
     "output_type": "stream",
     "text": [
      "Le chemin est C:\\Users\\A38579\\PyCharmProjects\\Cine_ML\n"
     ]
    }
   ],
   "source": [
    "# Chemins\n",
    "path = None\n",
    "path = os.path.dirname(os.getcwd())\n",
    "print(\"Le chemin est \"+path)\n",
    "\n",
    "pdf_dir = os.path.join(path, 'data', 'data_cine_pdf')\n",
    "raw_data_path = os.path.join(path, 'data', 'raw_data', 'df_raw.csv')\n",
    "data_path = os.path.join(path, 'data', 'clean_data.csv')\n",
    "movies_db_path = os.path.join(path, 'data', 'movies.db')"
   ]
  },
  {
   "cell_type": "code",
   "execution_count": 9,
   "id": "f12cfb84",
   "metadata": {},
   "outputs": [],
   "source": [
    "# Recuperation des données\n",
    "conn = sqlite3.connect(movies_db_path)\n",
    "df = pd.read_sql_query(\"SELECT * FROM movie\", conn)"
   ]
  },
  {
   "cell_type": "code",
   "execution_count": 10,
   "id": "8ba4e1b7",
   "metadata": {},
   "outputs": [
    {
     "name": "stdout",
     "output_type": "stream",
     "text": [
      "<class 'pandas.core.frame.DataFrame'>\n",
      "RangeIndex: 1023 entries, 0 to 1022\n",
      "Data columns (total 10 columns):\n",
      " #   Column        Non-Null Count  Dtype  \n",
      "---  ------        --------------  -----  \n",
      " 0   Title         1023 non-null   object \n",
      " 1   FullTitle     1023 non-null   object \n",
      " 2   Adult         1023 non-null   object \n",
      " 3   Release       1017 non-null   object \n",
      " 4   Language      1023 non-null   object \n",
      " 5   Genre         995 non-null    object \n",
      " 6   Popularity    1023 non-null   float64\n",
      " 7   Vote_average  941 non-null    float64\n",
      " 8   Vote_count    941 non-null    float64\n",
      " 9   Overview      973 non-null    object \n",
      "dtypes: float64(3), object(7)\n",
      "memory usage: 80.0+ KB\n"
     ]
    }
   ],
   "source": [
    "df.info();"
   ]
  },
  {
   "cell_type": "code",
   "execution_count": 11,
   "id": "629fcf27",
   "metadata": {},
   "outputs": [],
   "source": [
    "# Uniformisation des valeurs manquantes pour analyse\n",
    "df = df.replace(['N/A', -1], np.nan)"
   ]
  },
  {
   "cell_type": "code",
   "execution_count": 12,
   "id": "334ac4ff",
   "metadata": {},
   "outputs": [],
   "source": [
    "# \"Profiling\" des données\n",
    "profile = ProfileReport(df, title=\"Pandas Profiling Report\")"
   ]
  },
  {
   "cell_type": "code",
   "execution_count": 13,
   "id": "5b23c007",
   "metadata": {},
   "outputs": [
    {
     "data": {
      "application/vnd.jupyter.widget-view+json": {
       "model_id": "f22b7430ac984f13a50fe6a7c47b7a9b",
       "version_major": 2,
       "version_minor": 0
      },
      "text/plain": [
       "Summarize dataset:   0%|          | 0/5 [00:00<?, ?it/s]"
      ]
     },
     "metadata": {},
     "output_type": "display_data"
    },
    {
     "data": {
      "application/vnd.jupyter.widget-view+json": {
       "model_id": "358ddfa857744ae692b02cd430870865",
       "version_major": 2,
       "version_minor": 0
      },
      "text/plain": [
       "Generate report structure:   0%|          | 0/1 [00:00<?, ?it/s]"
      ]
     },
     "metadata": {},
     "output_type": "display_data"
    },
    {
     "data": {
      "application/vnd.jupyter.widget-view+json": {
       "model_id": "",
       "version_major": 2,
       "version_minor": 0
      },
      "text/plain": [
       "Render widgets:   0%|          | 0/1 [00:00<?, ?it/s]"
      ]
     },
     "metadata": {},
     "output_type": "display_data"
    },
    {
     "data": {
      "application/vnd.jupyter.widget-view+json": {
       "model_id": "909c197a830c44cca56843cfc4120166",
       "version_major": 2,
       "version_minor": 0
      },
      "text/plain": [
       "VBox(children=(Tab(children=(Tab(children=(GridBox(children=(VBox(children=(GridspecLayout(children=(HTML(valu…"
      ]
     },
     "metadata": {},
     "output_type": "display_data"
    }
   ],
   "source": [
    "profile.to_widgets()"
   ]
  },
  {
   "cell_type": "code",
   "execution_count": 8,
   "id": "64775e3d",
   "metadata": {},
   "outputs": [],
   "source": [
    "# ATTENTION TROUVER LA POLITIQUE DE VOTES TMDB"
   ]
  },
  {
   "cell_type": "code",
   "execution_count": 16,
   "id": "93f1faad",
   "metadata": {},
   "outputs": [
    {
     "data": {
      "text/html": [
       "<div>\n",
       "<style scoped>\n",
       "    .dataframe tbody tr th:only-of-type {\n",
       "        vertical-align: middle;\n",
       "    }\n",
       "\n",
       "    .dataframe tbody tr th {\n",
       "        vertical-align: top;\n",
       "    }\n",
       "\n",
       "    .dataframe thead th {\n",
       "        text-align: right;\n",
       "    }\n",
       "</style>\n",
       "<table border=\"1\" class=\"dataframe\">\n",
       "  <thead>\n",
       "    <tr style=\"text-align: right;\">\n",
       "      <th></th>\n",
       "      <th>Title</th>\n",
       "      <th>FullTitle</th>\n",
       "      <th>Adult</th>\n",
       "      <th>Release</th>\n",
       "      <th>Language</th>\n",
       "      <th>Genre</th>\n",
       "      <th>Popularity</th>\n",
       "      <th>Vote_average</th>\n",
       "      <th>Vote_count</th>\n",
       "      <th>Overview</th>\n",
       "    </tr>\n",
       "  </thead>\n",
       "  <tbody>\n",
       "    <tr>\n",
       "      <th>678</th>\n",
       "      <td>La Petite Taupe Aime La Nature</td>\n",
       "      <td>La Petite taupe aime la nature</td>\n",
       "      <td>false</td>\n",
       "      <td>2020-06-22</td>\n",
       "      <td>fr</td>\n",
       "      <td>['Animation']</td>\n",
       "      <td>0.6</td>\n",
       "      <td>1.0</td>\n",
       "      <td>1.0</td>\n",
       "      <td>L’emblématique et indémodable Petite Taupe rev...</td>\n",
       "    </tr>\n",
       "    <tr>\n",
       "      <th>727</th>\n",
       "      <td>Premier De Cordée</td>\n",
       "      <td>Premier de cordée</td>\n",
       "      <td>false</td>\n",
       "      <td>1998-01-14</td>\n",
       "      <td>fr</td>\n",
       "      <td>['Drama']</td>\n",
       "      <td>0.6</td>\n",
       "      <td>1.0</td>\n",
       "      <td>1.0</td>\n",
       "      <td>Adaptation du roman de Roger Frizon-Roche qui ...</td>\n",
       "    </tr>\n",
       "  </tbody>\n",
       "</table>\n",
       "</div>"
      ],
      "text/plain": [
       "                              Title                       FullTitle  Adult  \\\n",
       "678  La Petite Taupe Aime La Nature  La Petite taupe aime la nature  false   \n",
       "727               Premier De Cordée               Premier de cordée  false   \n",
       "\n",
       "        Release Language          Genre  Popularity  Vote_average  Vote_count  \\\n",
       "678  2020-06-22       fr  ['Animation']         0.6           1.0         1.0   \n",
       "727  1998-01-14       fr      ['Drama']         0.6           1.0         1.0   \n",
       "\n",
       "                                              Overview  \n",
       "678  L’emblématique et indémodable Petite Taupe rev...  \n",
       "727  Adaptation du roman de Roger Frizon-Roche qui ...  "
      ]
     },
     "execution_count": 16,
     "metadata": {},
     "output_type": "execute_result"
    }
   ],
   "source": [
    "df[df['Vote_average'] == df['Vote_average'].min()]"
   ]
  }
 ],
 "metadata": {
  "kernelspec": {
   "display_name": "cine_conda_kernel2",
   "language": "python",
   "name": "cine_conda_kernel2"
  },
  "language_info": {
   "codemirror_mode": {
    "name": "ipython",
    "version": 3
   },
   "file_extension": ".py",
   "mimetype": "text/x-python",
   "name": "python",
   "nbconvert_exporter": "python",
   "pygments_lexer": "ipython3",
   "version": "3.9.13"
  },
  "toc": {
   "base_numbering": 1,
   "nav_menu": {},
   "number_sections": true,
   "sideBar": true,
   "skip_h1_title": true,
   "title_cell": "Table of Contents",
   "title_sidebar": "Contents",
   "toc_cell": false,
   "toc_position": {},
   "toc_section_display": true,
   "toc_window_display": false
  }
 },
 "nbformat": 4,
 "nbformat_minor": 5
}
