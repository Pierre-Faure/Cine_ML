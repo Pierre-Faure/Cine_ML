{
 "cells": [
  {
   "cell_type": "code",
   "execution_count": 1,
   "id": "dfbd04e3",
   "metadata": {},
   "outputs": [],
   "source": [
    "# Imports\n",
    "import pandas as pd\n",
    "import os\n",
    "import locale\n",
    "from matplotlib import pyplot as plt\n",
    "import numpy as np\n",
    "import sqlite3\n",
    "from pandas_profiling import ProfileReport\n",
    "\n",
    "locale.setlocale(locale.LC_ALL, 'fr_FR');"
   ]
  },
  {
   "cell_type": "code",
   "execution_count": 2,
   "id": "73cba502",
   "metadata": {},
   "outputs": [
    {
     "name": "stdout",
     "output_type": "stream",
     "text": [
      "Le chemin est C:\\Users\\A38579\\PyCharmProjects\\Cine_ML\n"
     ]
    }
   ],
   "source": [
    "# Chemins\n",
    "path = None\n",
    "path = os.path.dirname(os.getcwd())\n",
    "print(\"Le chemin est \"+path)\n",
    "\n",
    "pdf_dir = os.path.join(path, 'data', 'data_cine_pdf')\n",
    "raw_data_path = os.path.join(path, 'data', 'raw_data', 'df_raw.csv')\n",
    "data_path = os.path.join(path, 'data', 'clean_data.csv')\n",
    "movies_db_path = os.path.join(path, 'data', 'movies.db')"
   ]
  },
  {
   "cell_type": "code",
   "execution_count": 3,
   "id": "f12cfb84",
   "metadata": {},
   "outputs": [],
   "source": [
    "# Recuperation des données\n",
    "conn = sqlite3.connect(movies_db_path)\n",
    "df = pd.read_sql_query(\"SELECT * FROM movie\", conn)"
   ]
  },
  {
   "cell_type": "code",
   "execution_count": 4,
   "id": "8ba4e1b7",
   "metadata": {},
   "outputs": [
    {
     "name": "stdout",
     "output_type": "stream",
     "text": [
      "<class 'pandas.core.frame.DataFrame'>\n",
      "RangeIndex: 1023 entries, 0 to 1022\n",
      "Data columns (total 10 columns):\n",
      " #   Column        Non-Null Count  Dtype  \n",
      "---  ------        --------------  -----  \n",
      " 0   Title         1023 non-null   object \n",
      " 1   FullTitle     1023 non-null   object \n",
      " 2   Adult         1023 non-null   object \n",
      " 3   Release       1017 non-null   object \n",
      " 4   Language      1023 non-null   object \n",
      " 5   Genre         995 non-null    object \n",
      " 6   Popularity    1023 non-null   float64\n",
      " 7   Vote_average  941 non-null    float64\n",
      " 8   Vote_count    941 non-null    float64\n",
      " 9   Overview      973 non-null    object \n",
      "dtypes: float64(3), object(7)\n",
      "memory usage: 80.0+ KB\n"
     ]
    }
   ],
   "source": [
    "df.info();"
   ]
  },
  {
   "cell_type": "code",
   "execution_count": 5,
   "id": "629fcf27",
   "metadata": {},
   "outputs": [],
   "source": [
    "# Uniformisation des valeurs manquantes pour analyse\n",
    "df = df.replace(['N/A', -1], np.nan)"
   ]
  },
  {
   "cell_type": "code",
   "execution_count": 6,
   "id": "334ac4ff",
   "metadata": {},
   "outputs": [],
   "source": [
    "# \"Profiling\" des données\n",
    "profile = ProfileReport(df, title=\"Pandas Profiling Report\")"
   ]
  },
  {
   "cell_type": "code",
   "execution_count": 7,
   "id": "5b23c007",
   "metadata": {},
   "outputs": [
    {
     "data": {
      "application/vnd.jupyter.widget-view+json": {
       "model_id": "2af213a73e894b96945747178ba8fa51",
       "version_major": 2,
       "version_minor": 0
      },
      "text/plain": [
       "Summarize dataset:   0%|          | 0/5 [00:00<?, ?it/s]"
      ]
     },
     "metadata": {},
     "output_type": "display_data"
    },
    {
     "data": {
      "application/vnd.jupyter.widget-view+json": {
       "model_id": "f817b1054da4470e9e578e19da2a782e",
       "version_major": 2,
       "version_minor": 0
      },
      "text/plain": [
       "Generate report structure:   0%|          | 0/1 [00:00<?, ?it/s]"
      ]
     },
     "metadata": {},
     "output_type": "display_data"
    },
    {
     "data": {
      "application/vnd.jupyter.widget-view+json": {
       "model_id": "",
       "version_major": 2,
       "version_minor": 0
      },
      "text/plain": [
       "Render widgets:   0%|          | 0/1 [00:00<?, ?it/s]"
      ]
     },
     "metadata": {},
     "output_type": "display_data"
    },
    {
     "data": {
      "application/vnd.jupyter.widget-view+json": {
       "model_id": "7d32cbdd94aa4d35a1c22c902c3cde81",
       "version_major": 2,
       "version_minor": 0
      },
      "text/plain": [
       "VBox(children=(Tab(children=(Tab(children=(GridBox(children=(VBox(children=(GridspecLayout(children=(HTML(valu…"
      ]
     },
     "metadata": {},
     "output_type": "display_data"
    }
   ],
   "source": [
    "profile.to_widgets()"
   ]
  },
  {
   "cell_type": "code",
   "execution_count": 8,
   "id": "64775e3d",
   "metadata": {},
   "outputs": [],
   "source": [
    "# ATTENTION TROUVER LA POLITIQUE DE VOTES TMDB"
   ]
  },
  {
   "cell_type": "code",
   "execution_count": null,
   "id": "93f1faad",
   "metadata": {},
   "outputs": [],
   "source": []
  }
 ],
 "metadata": {
  "kernelspec": {
   "display_name": "cine_conda_kernel2",
   "language": "python",
   "name": "cine_conda_kernel2"
  },
  "language_info": {
   "codemirror_mode": {
    "name": "ipython",
    "version": 3
   },
   "file_extension": ".py",
   "mimetype": "text/x-python",
   "name": "python",
   "nbconvert_exporter": "python",
   "pygments_lexer": "ipython3",
   "version": "3.9.13"
  },
  "toc": {
   "base_numbering": 1,
   "nav_menu": {},
   "number_sections": true,
   "sideBar": true,
   "skip_h1_title": true,
   "title_cell": "Table of Contents",
   "title_sidebar": "Contents",
   "toc_cell": false,
   "toc_position": {},
   "toc_section_display": true,
   "toc_window_display": false
  }
 },
 "nbformat": 4,
 "nbformat_minor": 5
}
