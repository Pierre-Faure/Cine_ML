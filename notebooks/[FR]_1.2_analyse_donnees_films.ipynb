{
 "cells": [
  {
   "cell_type": "code",
   "execution_count": 1,
   "id": "5ba4b553",
   "metadata": {},
   "outputs": [
    {
     "ename": "ModuleNotFoundError",
     "evalue": "No module named 'pandas_profiling'",
     "output_type": "error",
     "traceback": [
      "\u001b[1;31m---------------------------------------------------------------------------\u001b[0m",
      "\u001b[1;31mModuleNotFoundError\u001b[0m                       Traceback (most recent call last)",
      "\u001b[1;32m~\\AppData\\Local\\Temp\\ipykernel_18880\\3381756459.py\u001b[0m in \u001b[0;36m<module>\u001b[1;34m\u001b[0m\n\u001b[0;32m      7\u001b[0m \u001b[1;32mfrom\u001b[0m \u001b[0mprophet\u001b[0m \u001b[1;32mimport\u001b[0m \u001b[0mProphet\u001b[0m\u001b[1;33m\u001b[0m\u001b[1;33m\u001b[0m\u001b[0m\n\u001b[0;32m      8\u001b[0m \u001b[1;32mimport\u001b[0m \u001b[0msqlite3\u001b[0m\u001b[1;33m\u001b[0m\u001b[1;33m\u001b[0m\u001b[0m\n\u001b[1;32m----> 9\u001b[1;33m \u001b[1;32mfrom\u001b[0m \u001b[0mpandas_profiling\u001b[0m \u001b[1;32mimport\u001b[0m \u001b[0mProfileReport\u001b[0m\u001b[1;33m\u001b[0m\u001b[1;33m\u001b[0m\u001b[0m\n\u001b[0m\u001b[0;32m     10\u001b[0m \u001b[1;33m\u001b[0m\u001b[0m\n\u001b[0;32m     11\u001b[0m \u001b[0mlocale\u001b[0m\u001b[1;33m.\u001b[0m\u001b[0msetlocale\u001b[0m\u001b[1;33m(\u001b[0m\u001b[0mlocale\u001b[0m\u001b[1;33m.\u001b[0m\u001b[0mLC_ALL\u001b[0m\u001b[1;33m,\u001b[0m \u001b[1;34m'fr_FR'\u001b[0m\u001b[1;33m)\u001b[0m\u001b[1;33m;\u001b[0m\u001b[1;33m\u001b[0m\u001b[1;33m\u001b[0m\u001b[0m\n",
      "\u001b[1;31mModuleNotFoundError\u001b[0m: No module named 'pandas_profiling'"
     ]
    }
   ],
   "source": [
    "# Imports\n",
    "import pandas as pd\n",
    "import os\n",
    "import locale\n",
    "from matplotlib import pyplot as plt\n",
    "import numpy as np\n",
    "from prophet import Prophet\n",
    "import sqlite3\n",
    "from pandas_profiling import ProfileReport\n",
    "\n",
    "locale.setlocale(locale.LC_ALL, 'fr_FR');"
   ]
  },
  {
   "cell_type": "code",
   "execution_count": 8,
   "id": "056eefb0",
   "metadata": {},
   "outputs": [
    {
     "name": "stdout",
     "output_type": "stream",
     "text": [
      "Le chemin est C:\\Users\\A38579\\PyCharmProjects\\Cine_ML\n"
     ]
    }
   ],
   "source": [
    "# Chemins\n",
    "path = None\n",
    "path = os.path.dirname(os.getcwd())\n",
    "print(\"Le chemin est \"+path)\n",
    "\n",
    "pdf_dir = os.path.join(path, 'data', 'data_cine_pdf')\n",
    "raw_data_path = os.path.join(path, 'data', 'raw_data', 'df_raw.csv')\n",
    "data_path = os.path.join(path, 'data', 'clean_data.csv')\n",
    "movies_db_path = os.path.join(path, 'data', 'movies.sqlite')"
   ]
  },
  {
   "cell_type": "code",
   "execution_count": 10,
   "id": "b6eec7d8",
   "metadata": {},
   "outputs": [],
   "source": [
    "# Recuperation des données\n",
    "conn = sqlite3.connect(movies_db_path)\n",
    "df = pd.read_sql_query(\"SELECT * FROM movie\", conn)"
   ]
  },
  {
   "cell_type": "code",
   "execution_count": 12,
   "id": "6a0c9c5b",
   "metadata": {},
   "outputs": [
    {
     "name": "stdout",
     "output_type": "stream",
     "text": [
      "<class 'pandas.core.frame.DataFrame'>\n",
      "RangeIndex: 1085 entries, 0 to 1084\n",
      "Data columns (total 11 columns):\n",
      " #   Column      Non-Null Count  Dtype  \n",
      "---  ------      --------------  -----  \n",
      " 0   Title       1085 non-null   object \n",
      " 1   FullTitle   1085 non-null   object \n",
      " 2   Year        1085 non-null   int64  \n",
      " 3   Rated       1085 non-null   object \n",
      " 4   Released    1085 non-null   object \n",
      " 5   Runtime     1085 non-null   int64  \n",
      " 6   Country     1085 non-null   object \n",
      " 7   Genre       1085 non-null   object \n",
      " 8   Awards      1085 non-null   object \n",
      " 9   Metascore   1085 non-null   float64\n",
      " 10  IMDBRating  1085 non-null   float64\n",
      "dtypes: float64(2), int64(2), object(7)\n",
      "memory usage: 93.4+ KB\n"
     ]
    }
   ],
   "source": [
    "df.info();"
   ]
  },
  {
   "cell_type": "code",
   "execution_count": 19,
   "id": "d3d84bb4",
   "metadata": {},
   "outputs": [],
   "source": [
    "# Uniformisation des valeurs manquantes pour analyse\n",
    "df = df.replace(['N/A', -1], np.nan)"
   ]
  },
  {
   "cell_type": "code",
   "execution_count": 24,
   "id": "4eb15f23",
   "metadata": {},
   "outputs": [
    {
     "data": {
      "text/plain": [
       "Title            0\n",
       "FullTitle        0\n",
       "Year          1025\n",
       "Rated          768\n",
       "Released       426\n",
       "Runtime       1026\n",
       "Country        411\n",
       "Genre          421\n",
       "Awards         684\n",
       "Metascore     1049\n",
       "IMDBRating    1028\n",
       "dtype: int64"
      ]
     },
     "execution_count": 24,
     "metadata": {},
     "output_type": "execute_result"
    }
   ],
   "source": [
    "# \"Profiling\" des données\n",
    "profile = ProfileReport(df, title=\"Pandas Profiling Report\")"
   ]
  },
  {
   "cell_type": "code",
   "execution_count": null,
   "id": "7fc0d87d",
   "metadata": {},
   "outputs": [],
   "source": [
    "profile.to_widgets()"
   ]
  }
 ],
 "metadata": {
  "kernelspec": {
   "display_name": "cine_conda_kernel",
   "language": "python",
   "name": "cine_conda_kernel"
  },
  "language_info": {
   "codemirror_mode": {
    "name": "ipython",
    "version": 3
   },
   "file_extension": ".py",
   "mimetype": "text/x-python",
   "name": "python",
   "nbconvert_exporter": "python",
   "pygments_lexer": "ipython3",
   "version": "3.7.4"
  },
  "toc": {
   "base_numbering": 1,
   "nav_menu": {},
   "number_sections": true,
   "sideBar": true,
   "skip_h1_title": true,
   "title_cell": "Table of Contents",
   "title_sidebar": "Contents",
   "toc_cell": false,
   "toc_position": {},
   "toc_section_display": true,
   "toc_window_display": false
  }
 },
 "nbformat": 4,
 "nbformat_minor": 5
}
